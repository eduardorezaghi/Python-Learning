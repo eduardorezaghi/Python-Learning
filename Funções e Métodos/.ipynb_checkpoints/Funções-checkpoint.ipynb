{
 "cells": [
  {
   "cell_type": "markdown",
   "id": "ad78825b",
   "metadata": {},
   "source": [
    "# Funções"
   ]
  },
  {
   "cell_type": "code",
   "execution_count": 5,
   "id": "112e2f49",
   "metadata": {},
   "outputs": [],
   "source": [
    "def say_hello():\n",
    "    print(\"Hello!\")\n",
    "    print(\"How...\")\n",
    "    print(\"...Are...\")\n",
    "    print(\"You?\")"
   ]
  },
  {
   "cell_type": "code",
   "execution_count": 6,
   "id": "ca8ff444",
   "metadata": {},
   "outputs": [
    {
     "name": "stdout",
     "output_type": "stream",
     "text": [
      "Hello!\n",
      "How...\n",
      "...Are...\n",
      "You?\n"
     ]
    }
   ],
   "source": [
    "say_hello()"
   ]
  },
  {
   "cell_type": "code",
   "execution_count": 3,
   "id": "b50be9ec",
   "metadata": {},
   "outputs": [
    {
     "name": "stdout",
     "output_type": "stream",
     "text": [
      "Hello Default!\n"
     ]
    }
   ],
   "source": [
    "def say_hello(name='Default'):\n",
    "    print(f\"Hello {name}!\")\n",
    "    \n",
    "say_hello()"
   ]
  },
  {
   "cell_type": "code",
   "execution_count": 4,
   "id": "09c8078a",
   "metadata": {},
   "outputs": [],
   "source": [
    "def add_num(x,y):\n",
    "    return x+y"
   ]
  },
  {
   "cell_type": "code",
   "execution_count": 5,
   "id": "b46ecfa9",
   "metadata": {},
   "outputs": [],
   "source": [
    "result = add_num(10,20)"
   ]
  },
  {
   "cell_type": "code",
   "execution_count": 6,
   "id": "62298cbf",
   "metadata": {},
   "outputs": [
    {
     "data": {
      "text/plain": [
       "30"
      ]
     },
     "execution_count": 6,
     "metadata": {},
     "output_type": "execute_result"
    }
   ],
   "source": [
    "result"
   ]
  },
  {
   "cell_type": "code",
   "execution_count": 7,
   "id": "e4011fe5",
   "metadata": {},
   "outputs": [],
   "source": [
    "def print_result(a,b):\n",
    "    print(a+b)"
   ]
  },
  {
   "cell_type": "code",
   "execution_count": 8,
   "id": "1ae8b28e",
   "metadata": {},
   "outputs": [],
   "source": [
    "def return_result(a,b):\n",
    "    return a+b"
   ]
  },
  {
   "cell_type": "code",
   "execution_count": 10,
   "id": "663d8cb2",
   "metadata": {},
   "outputs": [
    {
     "name": "stdout",
     "output_type": "stream",
     "text": [
      "30\n"
     ]
    }
   ],
   "source": [
    "result = print_result(10,20)"
   ]
  },
  {
   "cell_type": "code",
   "execution_count": 11,
   "id": "d68dfaf8",
   "metadata": {},
   "outputs": [
    {
     "data": {
      "text/plain": [
       "NoneType"
      ]
     },
     "execution_count": 11,
     "metadata": {},
     "output_type": "execute_result"
    }
   ],
   "source": [
    "type(result)"
   ]
  },
  {
   "cell_type": "code",
   "execution_count": 13,
   "id": "5e241b16",
   "metadata": {},
   "outputs": [],
   "source": [
    "result = return_result(10,20)"
   ]
  },
  {
   "cell_type": "code",
   "execution_count": 14,
   "id": "74b72265",
   "metadata": {},
   "outputs": [
    {
     "data": {
      "text/plain": [
       "int"
      ]
     },
     "execution_count": 14,
     "metadata": {},
     "output_type": "execute_result"
    }
   ],
   "source": [
    "type(result)"
   ]
  },
  {
   "cell_type": "code",
   "execution_count": 18,
   "id": "1a42e2a5",
   "metadata": {},
   "outputs": [],
   "source": [
    "def myfunc(a,b):\n",
    "    print(a+b)\n",
    "    return a+b"
   ]
  },
  {
   "cell_type": "code",
   "execution_count": 19,
   "id": "612007b9",
   "metadata": {},
   "outputs": [
    {
     "name": "stdout",
     "output_type": "stream",
     "text": [
      "30\n"
     ]
    },
    {
     "data": {
      "text/plain": [
       "30"
      ]
     },
     "execution_count": 19,
     "metadata": {},
     "output_type": "execute_result"
    }
   ],
   "source": [
    "myfunc(10,20)"
   ]
  },
  {
   "cell_type": "markdown",
   "id": "9a70452f",
   "metadata": {},
   "source": [
    "# Funções - Lógica"
   ]
  },
  {
   "cell_type": "code",
   "execution_count": 1,
   "id": "47ad08fc",
   "metadata": {},
   "outputs": [],
   "source": [
    "def par_check(number):\n",
    "    return number % 2 == 0"
   ]
  },
  {
   "cell_type": "code",
   "execution_count": 4,
   "id": "1ee9f16f",
   "metadata": {},
   "outputs": [
    {
     "data": {
      "text/plain": [
       "True"
      ]
     },
     "execution_count": 4,
     "metadata": {},
     "output_type": "execute_result"
    }
   ],
   "source": [
    "par_check(20)"
   ]
  },
  {
   "cell_type": "code",
   "execution_count": 5,
   "id": "1c70d686",
   "metadata": {},
   "outputs": [
    {
     "data": {
      "text/plain": [
       "False"
      ]
     },
     "execution_count": 5,
     "metadata": {},
     "output_type": "execute_result"
    }
   ],
   "source": [
    "par_check(21)"
   ]
  },
  {
   "cell_type": "markdown",
   "id": "4f8958d6",
   "metadata": {},
   "source": [
    "* Chegar se qualquer número numa lista é par:"
   ]
  },
  {
   "cell_type": "code",
   "execution_count": 16,
   "id": "905f94c9",
   "metadata": {},
   "outputs": [],
   "source": [
    "def checar_par_lista(lista):\n",
    "    # Passe por cada número\n",
    "    for num in lista:\n",
    "        # Se o número for par, retornamos True\n",
    "        if num % 2 == 0:\n",
    "            return True\n",
    "        # Se não for, não faremos nada\n",
    "        else:\n",
    "        # INCORRETO! Irá retornar falso no primeiro num.\n",
    "        # ímpar encontrado (assim sendo, não checando toda a lista),\n",
    "        # o que não significa que a lista NÃO TEM nenhum num. par.\n",
    "            return False"
   ]
  },
  {
   "cell_type": "code",
   "execution_count": 6,
   "id": "59ae3370",
   "metadata": {},
   "outputs": [
    {
     "data": {
      "text/plain": [
       "False"
      ]
     },
     "execution_count": 6,
     "metadata": {},
     "output_type": "execute_result"
    }
   ],
   "source": [
    "checar_par_lista([1,2,3]) # Deve retornar True (lógica incorreta)"
   ]
  },
  {
   "cell_type": "code",
   "execution_count": 7,
   "id": "3a2d9a68",
   "metadata": {},
   "outputs": [
    {
     "data": {
      "text/plain": [
       "False"
      ]
     },
     "execution_count": 7,
     "metadata": {},
     "output_type": "execute_result"
    }
   ],
   "source": [
    "checar_par_lista([1,3,5]) # Deve retornar False"
   ]
  },
  {
   "cell_type": "markdown",
   "id": "672f9088",
   "metadata": {},
   "source": [
    "* Devemos checar todos os números antes de dizer que a lista não possui nenhum número par."
   ]
  },
  {
   "cell_type": "code",
   "execution_count": 8,
   "id": "fb674280",
   "metadata": {},
   "outputs": [],
   "source": [
    "def checar_par_lista(lista):\n",
    "    # Passe por cada número\n",
    "    for num in lista:\n",
    "        # Se o número for par, retornamos True\n",
    "        if num % 2 == 0:\n",
    "            return True\n",
    "        # Se não for, não faremos nada\n",
    "        else:\n",
    "            pass # Vá para o próxima iteração\n",
    "    # Após o loop, se não houver nenhum num. par, será\n",
    "    # retornado False\n",
    "    return False\n"
   ]
  },
  {
   "cell_type": "code",
   "execution_count": 9,
   "id": "93402c30",
   "metadata": {},
   "outputs": [
    {
     "data": {
      "text/plain": [
       "True"
      ]
     },
     "execution_count": 9,
     "metadata": {},
     "output_type": "execute_result"
    }
   ],
   "source": [
    "checar_par_lista([1,2,3])"
   ]
  },
  {
   "cell_type": "code",
   "execution_count": 12,
   "id": "9676c66f",
   "metadata": {},
   "outputs": [
    {
     "data": {
      "text/plain": [
       "False"
      ]
     },
     "execution_count": 12,
     "metadata": {},
     "output_type": "execute_result"
    }
   ],
   "source": [
    "checar_par_lista([1,1,1,1,1,1])"
   ]
  },
  {
   "cell_type": "code",
   "execution_count": 10,
   "id": "835bc3f8",
   "metadata": {},
   "outputs": [
    {
     "data": {
      "text/plain": [
       "True"
      ]
     },
     "execution_count": 10,
     "metadata": {},
     "output_type": "execute_result"
    }
   ],
   "source": [
    "checar_par_lista([2,1,1,1,1,1])"
   ]
  },
  {
   "cell_type": "code",
   "execution_count": 11,
   "id": "f47f0e8a",
   "metadata": {},
   "outputs": [
    {
     "data": {
      "text/plain": [
       "True"
      ]
     },
     "execution_count": 11,
     "metadata": {},
     "output_type": "execute_result"
    }
   ],
   "source": [
    "checar_par_lista([1,1,1,1,1,2])"
   ]
  },
  {
   "cell_type": "markdown",
   "id": "fd349f8e",
   "metadata": {},
   "source": [
    "### Retornar todos os números pares\n",
    "Dessa vez, retornaremos todos os números pares no final, ou uma lista vazia, se não houver nenhum num. par."
   ]
  },
  {
   "cell_type": "code",
   "execution_count": 17,
   "id": "e29f0220",
   "metadata": {},
   "outputs": [],
   "source": [
    "def checar_par_lista(lista):\n",
    "    \n",
    "    nums_par = []\n",
    "    \n",
    "    # Passe por cada número\n",
    "    for num in lista:\n",
    "        # Se o número for par, adicionaremos na lista\n",
    "        if num % 2 == 0:\n",
    "            nums_par.append(num)\n",
    "        # Se não for, não faremos nada\n",
    "        else:\n",
    "            pass # Vá para a próxima iteração\n",
    "    # Após o loop, se não houver nenhum num. par, será\n",
    "    # retornado uma lista com os nums. ou vazia\n",
    "    return nums_par"
   ]
  },
  {
   "cell_type": "code",
   "execution_count": 18,
   "id": "82fb0256",
   "metadata": {},
   "outputs": [
    {
     "data": {
      "text/plain": [
       "[2, 6, 88, 92, 1002, 1042]"
      ]
     },
     "execution_count": 18,
     "metadata": {},
     "output_type": "execute_result"
    }
   ],
   "source": [
    "checar_par_lista([1,2,6,7,88,92,105,889,1002,1042,993])"
   ]
  },
  {
   "cell_type": "code",
   "execution_count": 19,
   "id": "f47eb251",
   "metadata": {},
   "outputs": [
    {
     "data": {
      "text/plain": [
       "[]"
      ]
     },
     "execution_count": 19,
     "metadata": {},
     "output_type": "execute_result"
    }
   ],
   "source": [
    "checar_par_lista([1,3,5,7,9,11,13,15])"
   ]
  },
  {
   "cell_type": "markdown",
   "id": "e85aeac7",
   "metadata": {},
   "source": [
    "## Desempacotamento de Tuplas (Tuple Unpacking) em Funções"
   ]
  },
  {
   "cell_type": "code",
   "execution_count": 2,
   "id": "7db8da6b",
   "metadata": {},
   "outputs": [
    {
     "name": "stdout",
     "output_type": "stream",
     "text": [
      "('AAPL', 200)\n",
      "('GOOG', 300)\n",
      "('MSFT', 400)\n"
     ]
    }
   ],
   "source": [
    "stock_prices = [('AAPL',200),('GOOG',300),('MSFT',400)]\n",
    "\n",
    "for item in stock_prices:\n",
    "    print(item)"
   ]
  },
  {
   "cell_type": "code",
   "execution_count": 3,
   "id": "687fe4a6",
   "metadata": {},
   "outputs": [
    {
     "name": "stdout",
     "output_type": "stream",
     "text": [
      "AAPL\n",
      "GOOG\n",
      "MSFT\n"
     ]
    }
   ],
   "source": [
    "for stock,price in stock_prices:\n",
    "    print(stock)"
   ]
  },
  {
   "cell_type": "code",
   "execution_count": 4,
   "id": "93154347",
   "metadata": {},
   "outputs": [
    {
     "name": "stdout",
     "output_type": "stream",
     "text": [
      "200\n",
      "300\n",
      "400\n"
     ]
    }
   ],
   "source": [
    "for stock,price in stock_prices:\n",
    "    print(price)"
   ]
  },
  {
   "cell_type": "markdown",
   "id": "d8ed5823",
   "metadata": {},
   "source": [
    "* Similarmente, Funções retornam tuplas, retornando assim múltiplos resultados de forma mais fácil."
   ]
  },
  {
   "cell_type": "code",
   "execution_count": 5,
   "id": "946b673b",
   "metadata": {},
   "outputs": [],
   "source": [
    "work_hours = [('Abby',100),('Billy',400),('Cassie',800)]"
   ]
  },
  {
   "cell_type": "code",
   "execution_count": 9,
   "id": "bf1bcb9f",
   "metadata": {},
   "outputs": [],
   "source": [
    "def employee_check(work_hours):\n",
    "    \n",
    "    # Acumulador\n",
    "    current_max = 0\n",
    "    \n",
    "    # Valor vazio antes do loop\n",
    "    employee_of_month = ''\n",
    "    \n",
    "    for employee,hours in work_hours:\n",
    "        \n",
    "        # COMPARADOR: se o que eu tenho agora (hours)\n",
    "        # é maior que o máximo atual (current max) \n",
    "        # então eu encontrei o novo máximo (hours > max)\n",
    "        if hours > current_max:\n",
    "            current_max = hours\n",
    "            employee_of_month = employee\n",
    "            \n",
    "        else:\n",
    "            pass\n",
    "        \n",
    "    return (employee_of_month,current_max)"
   ]
  },
  {
   "cell_type": "code",
   "execution_count": 10,
   "id": "13bb2c21",
   "metadata": {},
   "outputs": [
    {
     "data": {
      "text/plain": [
       "('Cassie', 800)"
      ]
     },
     "execution_count": 10,
     "metadata": {},
     "output_type": "execute_result"
    }
   ],
   "source": [
    "employee_check(work_hours)"
   ]
  },
  {
   "cell_type": "markdown",
   "id": "bfe50a5a",
   "metadata": {},
   "source": [
    "## Guessing Game\n",
    "* Esse é um exemplo de interação entre funções.\n",
    "* Existem três posições na lista. Uma delas possui um 'O'. Uma função irá embaralhar a lista, outra irá pedir um palpite do usuário e finalmente outra vai checar se o palpite está correto. \n",
    "* Essa é a premissa do jogo da bola no copo."
   ]
  },
  {
   "cell_type": "code",
   "execution_count": 14,
   "id": "bfcdb0f5",
   "metadata": {},
   "outputs": [
    {
     "name": "stdout",
     "output_type": "stream",
     "text": [
      "[6, 2, 4, 5, 8, 1, 9, 10, 3, 7]\n"
     ]
    }
   ],
   "source": [
    "from random import shuffle\n",
    "# Parecido com importação estática\n",
    "# De 'random' importe 'shuffle'\n",
    "## import static java.lang.Math.cos\n",
    "\n",
    "ex = [1,2,3,4,5,6,7,8,9,10]\n",
    "shuffle(ex)\n",
    "print(ex)"
   ]
  },
  {
   "cell_type": "code",
   "execution_count": 15,
   "id": "647a4980",
   "metadata": {},
   "outputs": [],
   "source": [
    "lst = ['','O','']"
   ]
  },
  {
   "cell_type": "code",
   "execution_count": 20,
   "id": "b42846d2",
   "metadata": {},
   "outputs": [],
   "source": [
    "def shuffle_list(some_list):\n",
    "    # Recebe a lista, embaralha e retorna\n",
    "    shuffle(some_list)\n",
    "    return some_list"
   ]
  },
  {
   "cell_type": "code",
   "execution_count": 22,
   "id": "8622dcde",
   "metadata": {},
   "outputs": [
    {
     "name": "stdout",
     "output_type": "stream",
     "text": [
      "['', 'O', '']\n"
     ]
    }
   ],
   "source": [
    "print(shuffle_list(lst))"
   ]
  },
  {
   "cell_type": "code",
   "execution_count": 31,
   "id": "cf5dabe9",
   "metadata": {},
   "outputs": [],
   "source": [
    "def player_guess():\n",
    "    guess = ''\n",
    "    \n",
    "    while guess not in ['0','1','2']:\n",
    "        \n",
    "        # Função input() retorna uma string\n",
    "        guess = input(\"Escolha um número: 0, 1 ou 2: \")\n",
    "    \n",
    "    return int(guess)"
   ]
  },
  {
   "cell_type": "code",
   "execution_count": 25,
   "id": "5793e9f5",
   "metadata": {},
   "outputs": [
    {
     "name": "stdout",
     "output_type": "stream",
     "text": [
      "Escolha um número: 0, 1 ou 2: -1\n",
      "Escolha um número: 0, 1 ou 2: 3\n",
      "Escolha um número: 0, 1 ou 2: 2\n"
     ]
    },
    {
     "data": {
      "text/plain": [
       "2"
      ]
     },
     "execution_count": 25,
     "metadata": {},
     "output_type": "execute_result"
    }
   ],
   "source": [
    "guess()"
   ]
  },
  {
   "cell_type": "code",
   "execution_count": 26,
   "id": "4769f4c0",
   "metadata": {},
   "outputs": [],
   "source": [
    "def check_guess(somelist,guess):\n",
    "    if somelist[guess] == 'O':\n",
    "        print('Acertou!')\n",
    "    else:\n",
    "        print('Errou! Mais sorte da próxima vez.')\n",
    "        print(somelist)"
   ]
  },
  {
   "cell_type": "code",
   "execution_count": 34,
   "id": "e9324a9c",
   "metadata": {},
   "outputs": [
    {
     "name": "stdout",
     "output_type": "stream",
     "text": [
      "Escolha um número: 0, 1 ou 2: 0\n",
      "Acertou!\n"
     ]
    }
   ],
   "source": [
    "#---------- VARIÁVEIS ------------\n",
    "# Lista Inicial\n",
    "game = ['','O','']\n",
    "\n",
    "# Embaralhando a lista\n",
    "sorted_game = shuffle_list(game)\n",
    "\n",
    "# Pegue o palpite do usuário\n",
    "guess = player_guess()\n",
    "\n",
    "#---------- LÓGICA --------------\n",
    "\n",
    "# Cheque o palpite do usuário\n",
    "check_guess(sorted_game,guess)"
   ]
  },
  {
   "cell_type": "code",
   "execution_count": null,
   "id": "a1e79189",
   "metadata": {},
   "outputs": [],
   "source": []
  }
 ],
 "metadata": {
  "interpreter": {
   "hash": "ee5cc6fef2d70a7e71ee3826687cbd150f18158e0b1eef11d4f4f92bb920e304"
  },
  "kernelspec": {
   "display_name": "Python 3",
   "language": "python",
   "name": "python3"
  },
  "language_info": {
   "codemirror_mode": {
    "name": "ipython",
    "version": 3
   },
   "file_extension": ".py",
   "mimetype": "text/x-python",
   "name": "python",
   "nbconvert_exporter": "python",
   "pygments_lexer": "ipython3",
   "version": "3.8.8"
  }
 },
 "nbformat": 4,
 "nbformat_minor": 5
}
