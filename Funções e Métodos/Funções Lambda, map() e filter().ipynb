{
 "cells": [
  {
   "cell_type": "markdown",
   "id": "a6a56111",
   "metadata": {},
   "source": [
    "# Funções Lambda, map() e filter()\n",
    "* Função `map()`: \"mapeia\" o iterável (lista, tupla ou conjunto), usando uma função para cada elemento, iterando por cada elemento. O tipo do objeto retornado pela função é `map`, e pode ser convertido para lista com o uso de list(), por exemplo.\n",
    "* Função `filter()`: \"filtra\" o iterável (lista, tupla ou conjunto), usando uma função booleana para cada elemento. O tipo do objeto retornado pela função é `filter`, e pode ser convertido para lista com o uso de list(), por exemplo.\n",
    "* Função lambda: forma compacta de se escrever funções mais simples. Utilizase a keyword `lambda` para indicar uma função lambda. Exemplo: `lambda num:num**2` retorna o quadrado de um número. Outros exemplos de utilização:\n",
    "  * `map(lambda num: math.sqrt(num),sequence)` extrai a raiz quadrada de cada número no iterável _sequence_.\n",
    "  * `filter(lambda n: n%2 == 0,nums)` filtra cada número no iterável _nums_, afim de obter-se somente os números pares.\n",
    "    "
   ]
  },
  {
   "cell_type": "code",
   "execution_count": 2,
   "id": "f834bf7e",
   "metadata": {},
   "outputs": [],
   "source": [
    "def square(num):\n",
    "    return num**2"
   ]
  },
  {
   "cell_type": "code",
   "execution_count": 3,
   "id": "e8b20f4b",
   "metadata": {},
   "outputs": [],
   "source": [
    "my_nums = [1,2,3,4,5]"
   ]
  },
  {
   "cell_type": "code",
   "execution_count": 4,
   "id": "690b2c5b",
   "metadata": {},
   "outputs": [
    {
     "name": "stdout",
     "output_type": "stream",
     "text": [
      "1\n",
      "4\n",
      "9\n",
      "16\n",
      "25\n"
     ]
    }
   ],
   "source": [
    "for item in map(square,my_nums):\n",
    "    print(item)"
   ]
  },
  {
   "cell_type": "code",
   "execution_count": 5,
   "id": "2ced1b3d",
   "metadata": {},
   "outputs": [
    {
     "data": {
      "text/plain": [
       "map"
      ]
     },
     "execution_count": 5,
     "metadata": {},
     "output_type": "execute_result"
    }
   ],
   "source": [
    "type(map(square,my_nums))"
   ]
  },
  {
   "cell_type": "code",
   "execution_count": 8,
   "id": "f275cac6",
   "metadata": {},
   "outputs": [
    {
     "data": {
      "text/plain": [
       "[1, 4, 9, 16, 25]"
      ]
     },
     "execution_count": 8,
     "metadata": {},
     "output_type": "execute_result"
    }
   ],
   "source": [
    "list(map(square,my_nums))"
   ]
  },
  {
   "cell_type": "code",
   "execution_count": 9,
   "id": "50232cc7",
   "metadata": {},
   "outputs": [],
   "source": [
    "def splicer(mystring):\n",
    "    if len(mystring)%2 == 0:\n",
    "        return 'ÍMPAR'\n",
    "    else:\n",
    "        return mystring[0]"
   ]
  },
  {
   "cell_type": "code",
   "execution_count": 10,
   "id": "29b081f8",
   "metadata": {},
   "outputs": [],
   "source": [
    "names = ['Andy','Eve','Sally']"
   ]
  },
  {
   "cell_type": "code",
   "execution_count": 11,
   "id": "80e35d56",
   "metadata": {},
   "outputs": [
    {
     "data": {
      "text/plain": [
       "['ÍMPAR', 'E', 'S']"
      ]
     },
     "execution_count": 11,
     "metadata": {},
     "output_type": "execute_result"
    }
   ],
   "source": [
    "list(map(splicer,names))"
   ]
  },
  {
   "cell_type": "code",
   "execution_count": 7,
   "id": "891abd0b",
   "metadata": {},
   "outputs": [],
   "source": [
    "def check_par(num):\n",
    "    return num%2 == 0"
   ]
  },
  {
   "cell_type": "code",
   "execution_count": 8,
   "id": "0c449346",
   "metadata": {},
   "outputs": [],
   "source": [
    "my_nums = [1,2,3,4,5,6]"
   ]
  },
  {
   "cell_type": "code",
   "execution_count": 9,
   "id": "e0917ce6",
   "metadata": {},
   "outputs": [
    {
     "data": {
      "text/plain": [
       "[2, 4, 6]"
      ]
     },
     "execution_count": 9,
     "metadata": {},
     "output_type": "execute_result"
    }
   ],
   "source": [
    "list(filter(check_par,my_nums))"
   ]
  },
  {
   "cell_type": "code",
   "execution_count": 10,
   "id": "cf53b29b",
   "metadata": {},
   "outputs": [
    {
     "data": {
      "text/plain": [
       "filter"
      ]
     },
     "execution_count": 10,
     "metadata": {},
     "output_type": "execute_result"
    }
   ],
   "source": [
    "type(filter(check_par,my_nums))"
   ]
  },
  {
   "cell_type": "code",
   "execution_count": 15,
   "id": "42b7d968",
   "metadata": {},
   "outputs": [
    {
     "name": "stdout",
     "output_type": "stream",
     "text": [
      "2\n",
      "4\n",
      "6\n"
     ]
    }
   ],
   "source": [
    "for n in filter(check_par,my_nums):\n",
    "    print(n)"
   ]
  },
  {
   "cell_type": "code",
   "execution_count": 24,
   "id": "44cec742",
   "metadata": {},
   "outputs": [],
   "source": [
    "# FUNÇÃO LAMBDA EM PYTHON!\n",
    "square = lambda num: num ** 2"
   ]
  },
  {
   "cell_type": "code",
   "execution_count": 25,
   "id": "6f976667",
   "metadata": {},
   "outputs": [
    {
     "data": {
      "text/plain": [
       "9"
      ]
     },
     "execution_count": 25,
     "metadata": {},
     "output_type": "execute_result"
    }
   ],
   "source": [
    "square(3)"
   ]
  },
  {
   "cell_type": "code",
   "execution_count": 27,
   "id": "8b23bca8",
   "metadata": {},
   "outputs": [
    {
     "data": {
      "text/plain": [
       "[1, 4, 9, 16, 25, 36]"
      ]
     },
     "execution_count": 27,
     "metadata": {},
     "output_type": "execute_result"
    }
   ],
   "source": [
    "# APLICAÇÃO DE FUNÇÃO LAMBDA EM PYTHON!\n",
    "list(map(lambda num:num**2,my_nums))"
   ]
  },
  {
   "cell_type": "code",
   "execution_count": 28,
   "id": "569463bd",
   "metadata": {},
   "outputs": [
    {
     "data": {
      "text/plain": [
       "[2, 4, 6]"
      ]
     },
     "execution_count": 28,
     "metadata": {},
     "output_type": "execute_result"
    }
   ],
   "source": [
    "list(filter(lambda num:num%2 == 0,my_nums))"
   ]
  },
  {
   "cell_type": "code",
   "execution_count": 29,
   "id": "b0865a34",
   "metadata": {},
   "outputs": [
    {
     "data": {
      "text/plain": [
       "['A', 'E', 'S']"
      ]
     },
     "execution_count": 29,
     "metadata": {},
     "output_type": "execute_result"
    }
   ],
   "source": [
    "list(map(lambda name:name[0],names))"
   ]
  },
  {
   "cell_type": "code",
   "execution_count": 30,
   "id": "ec6b0115",
   "metadata": {},
   "outputs": [
    {
     "data": {
      "text/plain": [
       "['ydnA', 'evE', 'yllaS']"
      ]
     },
     "execution_count": 30,
     "metadata": {},
     "output_type": "execute_result"
    }
   ],
   "source": [
    "list(map(lambda name:name[::-1],names))"
   ]
  },
  {
   "cell_type": "code",
   "execution_count": 13,
   "id": "2880d8c0",
   "metadata": {},
   "outputs": [
    {
     "data": {
      "text/plain": [
       "[1.0,\n",
       " 2.0,\n",
       " 3.0,\n",
       " 4.242640687119285,\n",
       " 7.0710678118654755,\n",
       " 7.745966692414834,\n",
       " 8.366600265340756,\n",
       " 8.94427190999916,\n",
       " 9.486832980505138,\n",
       " 10.0]"
      ]
     },
     "execution_count": 13,
     "metadata": {},
     "output_type": "execute_result"
    }
   ],
   "source": [
    "from math import sqrt\n",
    "numbers = [1,4,9,18,50,60,70,80,90,100]\n",
    "list(map(lambda num:sqrt(num),numbers))\n"
   ]
  },
  {
   "cell_type": "code",
   "execution_count": null,
   "id": "3de20cc9",
   "metadata": {},
   "outputs": [],
   "source": []
  },
  {
   "cell_type": "code",
   "execution_count": null,
   "id": "056508bf",
   "metadata": {},
   "outputs": [],
   "source": []
  }
 ],
 "metadata": {
  "interpreter": {
   "hash": "ee5cc6fef2d70a7e71ee3826687cbd150f18158e0b1eef11d4f4f92bb920e304"
  },
  "kernelspec": {
   "display_name": "Python 3",
   "language": "python",
   "name": "python3"
  },
  "language_info": {
   "codemirror_mode": {
    "name": "ipython",
    "version": 3
   },
   "file_extension": ".py",
   "mimetype": "text/x-python",
   "name": "python",
   "nbconvert_exporter": "python",
   "pygments_lexer": "ipython3",
   "version": "3.8.8"
  }
 },
 "nbformat": 4,
 "nbformat_minor": 5
}
