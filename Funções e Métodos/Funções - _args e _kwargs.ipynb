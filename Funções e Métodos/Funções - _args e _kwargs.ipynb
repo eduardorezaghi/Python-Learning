{
 "cells": [
  {
   "cell_type": "markdown",
   "id": "d6c7308d",
   "metadata": {},
   "source": [
    "# Funções - args e kwargs\n",
    "* `*args` (arguments) é uma palavra-chave que é usada para definir uma função que aceita um número arbitrário de argumentos. Exemplo:\n",
    "* ```python\n",
    "  def function(*args):\n",
    "      return list(args)\n",
    "  lst = function(1,2,3,4,5,6,7,8,9)  \n",
    "  ```\n",
    "* `**kargs` (keyword-arguments) é uma palavra-chave que é usada para definir uma função que aceita um número arbitrário de argumentos, mas em forma de par chave-valor (dicionário). Exemplo:\n",
    "* ```python\n",
    "  def function(**kwargs):\n",
    "      return kwargs\n",
    "  dict = function(name='Lee',age='30',car_model='Tesla Model S')  \n",
    "  ```"
   ]
  },
  {
   "cell_type": "markdown",
   "id": "da3fcae7",
   "metadata": {},
   "source": [
    "## Função com parâmetro \\*args"
   ]
  },
  {
   "cell_type": "code",
   "execution_count": 12,
   "id": "37b99cce",
   "metadata": {},
   "outputs": [
    {
     "name": "stdout",
     "output_type": "stream",
     "text": [
      "<class 'tuple'> , (1, 2, 3, 4, 5, 6, 7, 8, 9)\n",
      "<class 'list'> ,  [1, 2, 3, 4, 5, 6, 7, 8, 9]\n"
     ]
    }
   ],
   "source": [
    "def function(*args):\n",
    "    print(type(args),',',args)\n",
    "    return list(args)\n",
    "\n",
    "lst = function(1,2,3,4,5,6,7,8,9)\n",
    "\n",
    "print(type(lst),', ',lst) "
   ]
  },
  {
   "cell_type": "code",
   "execution_count": 3,
   "id": "8d65a616",
   "metadata": {},
   "outputs": [],
   "source": [
    "def function_2(*args):\n",
    "    for item in args:\n",
    "        print(item)"
   ]
  },
  {
   "cell_type": "markdown",
   "id": "f01eeb14",
   "metadata": {},
   "source": [
    "## Função com parâmetro \\*\\*kwargs"
   ]
  },
  {
   "cell_type": "code",
   "execution_count": 16,
   "id": "9f007ca0",
   "metadata": {},
   "outputs": [
    {
     "name": "stdout",
     "output_type": "stream",
     "text": [
      "{'name': 'Lee', 'age': '30', 'car_model': 'Tesla Model S'}\n"
     ]
    }
   ],
   "source": [
    "def function(**kwargs):\n",
    "      return kwargs\n",
    "\n",
    "dict = function(name='Lee',age='30',car_model='Tesla Model S')\n",
    "print(dict)"
   ]
  },
  {
   "cell_type": "code",
   "execution_count": 4,
   "id": "87482b14",
   "metadata": {},
   "outputs": [
    {
     "name": "stdout",
     "output_type": "stream",
     "text": [
      "1\n",
      "2\n",
      "3\n",
      "4\n"
     ]
    }
   ],
   "source": [
    "function_2(1,2,3,4)"
   ]
  },
  {
   "cell_type": "code",
   "execution_count": 13,
   "id": "a73a2c26",
   "metadata": {},
   "outputs": [],
   "source": [
    "def function_3(**kwargs):\n",
    "    if 'fruit' in kwargs:\n",
    "        print('My fruit of choice is {}'.format(kwargs['fruit']))\n",
    "    else:\n",
    "        print('I did not find any fruit here')\n",
    "        "
   ]
  },
  {
   "cell_type": "code",
   "execution_count": 15,
   "id": "5931b566",
   "metadata": {},
   "outputs": [
    {
     "name": "stdout",
     "output_type": "stream",
     "text": [
      "My fruit of choice is apple\n"
     ]
    }
   ],
   "source": [
    "function_3(fruit='apple', veggie='lettuce')"
   ]
  },
  {
   "cell_type": "code",
   "execution_count": 24,
   "id": "519457d1",
   "metadata": {},
   "outputs": [],
   "source": [
    "def function_4(*args, **kwargs):\n",
    "    print(args)\n",
    "    print(kwargs)\n",
    "    print('\\n')\n",
    "    print('I would like {} {}'.format(args[0],kwargs['food']))"
   ]
  },
  {
   "cell_type": "code",
   "execution_count": 25,
   "id": "0c325171",
   "metadata": {},
   "outputs": [
    {
     "name": "stdout",
     "output_type": "stream",
     "text": [
      "(10, 20, 30)\n",
      "{'fruit': 'orange', 'food': 'eggs', 'animal': 'dog'}\n",
      "\n",
      "\n",
      "I would like 10 eggs\n"
     ]
    }
   ],
   "source": [
    "function_4(10,20,30,fruit='orange',food='eggs',animal='dog')"
   ]
  },
  {
   "cell_type": "code",
   "execution_count": null,
   "id": "e81a193b",
   "metadata": {},
   "outputs": [],
   "source": []
  }
 ],
 "metadata": {
  "interpreter": {
   "hash": "ee5cc6fef2d70a7e71ee3826687cbd150f18158e0b1eef11d4f4f92bb920e304"
  },
  "kernelspec": {
   "display_name": "Python 3",
   "language": "python",
   "name": "python3"
  },
  "language_info": {
   "codemirror_mode": {
    "name": "ipython",
    "version": 3
   },
   "file_extension": ".py",
   "mimetype": "text/x-python",
   "name": "python",
   "nbconvert_exporter": "python",
   "pygments_lexer": "ipython3",
   "version": "3.8.8"
  }
 },
 "nbformat": 4,
 "nbformat_minor": 5
}
