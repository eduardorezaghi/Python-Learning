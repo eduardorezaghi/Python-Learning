{
 "cells": [
  {
   "cell_type": "markdown",
   "source": [
    "# Funções - args e kwargs\r\n",
    "* `*args` é uma palavra-chave que é usada para definir uma função que aceita um número arbitrário de argumentos. Exemplo:\r\n",
    "* ```python\r\n",
    "  def function(*args):\r\n",
    "      return list(args)\r\n",
    "  lst = function(1,2,3,4,5,6,7,8,9)  \r\n",
    "  ```\r\n",
    "\r\n"
   ],
   "metadata": {}
  },
  {
   "cell_type": "code",
   "execution_count": 1,
   "source": [
    "def function(*args):\r\n",
    "    return list(args)\r\n",
    "lst = function(1,2,3,4,5,6,7,8,9)  "
   ],
   "outputs": [],
   "metadata": {}
  }
 ],
 "metadata": {
  "language_info": {
   "name": "python",
   "version": "3.9.7",
   "mimetype": "text/x-python",
   "codemirror_mode": {
    "name": "ipython",
    "version": 3
   },
   "pygments_lexer": "ipython3",
   "nbconvert_exporter": "python",
   "file_extension": ".py"
  },
  "kernelspec": {
   "name": "python3",
   "display_name": "Python 3.9.7 64-bit"
  },
  "interpreter": {
   "hash": "ee5cc6fef2d70a7e71ee3826687cbd150f18158e0b1eef11d4f4f92bb920e304"
  }
 },
 "nbformat": 4,
 "nbformat_minor": 5
}