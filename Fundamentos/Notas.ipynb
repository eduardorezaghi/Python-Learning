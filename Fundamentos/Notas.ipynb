{
 "cells": [
  {
   "cell_type": "markdown",
   "id": "e0d3e7e9",
   "metadata": {},
   "source": [
    "# Salário x Despesas: percentual (Udemy)"
   ]
  },
  {
   "cell_type": "code",
   "execution_count": 2,
   "id": "2021739a",
   "metadata": {},
   "outputs": [
    {
     "name": "stdout",
     "output_type": "stream",
     "text": [
      "71.18%\n"
     ]
    }
   ],
   "source": [
    "meu_salario = 3450.45\n",
    "minhas_despesas = 2456.2\n",
    "percentual_comprometimento = (2456.2/3450.45)\n",
    "print(f'{(percentual_comprometimento*100):3.2f}%')"
   ]
  },
  {
   "cell_type": "code",
   "execution_count": 3,
   "id": "72a244c4",
   "metadata": {},
   "outputs": [
    {
     "data": {
      "text/plain": [
       "'Python rules!'"
      ]
     },
     "execution_count": 3,
     "metadata": {},
     "output_type": "execute_result"
    }
   ],
   "source": [
    "'{} rules!'.format('Python')"
   ]
  },
  {
   "cell_type": "code",
   "execution_count": 4,
   "id": "9594dcb7",
   "metadata": {},
   "outputs": [],
   "source": [
    "lista = ['Apple','Banana','Orange',1,2,3,'漢']"
   ]
  },
  {
   "cell_type": "code",
   "execution_count": 5,
   "id": "45df7ff2",
   "metadata": {},
   "outputs": [
    {
     "data": {
      "text/plain": [
       "['Apple', 'Banana', 'Orange', 1, 2, 3, '漢']"
      ]
     },
     "execution_count": 5,
     "metadata": {},
     "output_type": "execute_result"
    }
   ],
   "source": [
    "lista"
   ]
  },
  {
   "cell_type": "code",
   "execution_count": 57,
   "id": "17d651b4",
   "metadata": {},
   "outputs": [],
   "source": [
    "def myfunc(*args):\n",
    "    return sum(args)\n",
    "\n",
    "#def lambda_func(*args):\n",
    "#    return reduce((lambda x, y: x + y), args)\n",
    "    \n",
    "    \n",
    "    "
   ]
  },
  {
   "cell_type": "code",
   "execution_count": 58,
   "id": "b33a12f6",
   "metadata": {},
   "outputs": [
    {
     "data": {
      "text/plain": [
       "18"
      ]
     },
     "execution_count": 58,
     "metadata": {},
     "output_type": "execute_result"
    }
   ],
   "source": [
    "myfunc(3,4,5,6)"
   ]
  },
  {
   "cell_type": "code",
   "execution_count": 74,
   "id": "47f326f7",
   "metadata": {},
   "outputs": [],
   "source": [
    "def myfunc(string):\n",
    "    for pos in range(0,len(string)):\n",
    "        new_string = []\n",
    "        if pos % 2 == 0:\n",
    "            print(string[pos].upper())\n",
    "            new_string.append(string[pos].upper())\n",
    "        else:\n",
    "            print(string[pos].lower())\n",
    "            new_string.(string[pos].lower())\n",
    "    return new_string"
   ]
  },
  {
   "cell_type": "code",
   "execution_count": 75,
   "id": "52ae5f90",
   "metadata": {},
   "outputs": [
    {
     "name": "stdout",
     "output_type": "stream",
     "text": [
      "A\n",
      "n\n",
      "T\n",
      "h\n",
      "R\n",
      "o\n",
      "P\n",
      "o\n",
      "M\n",
      "o\n",
      "R\n",
      "p\n",
      "H\n",
      "i\n",
      "S\n",
      "m\n"
     ]
    },
    {
     "data": {
      "text/plain": [
       "['m']"
      ]
     },
     "execution_count": 75,
     "metadata": {},
     "output_type": "execute_result"
    }
   ],
   "source": [
    "myfunc('Anthropomorphism')"
   ]
  },
  {
   "cell_type": "code",
   "execution_count": null,
   "id": "f25d2d18",
   "metadata": {},
   "outputs": [],
   "source": []
  }
 ],
 "metadata": {
  "kernelspec": {
   "display_name": "Python 3",
   "language": "python",
   "name": "python3"
  },
  "language_info": {
   "codemirror_mode": {
    "name": "ipython",
    "version": 3
   },
   "file_extension": ".py",
   "mimetype": "text/x-python",
   "name": "python",
   "nbconvert_exporter": "python",
   "pygments_lexer": "ipython3",
   "version": "3.8.8"
  }
 },
 "nbformat": 4,
 "nbformat_minor": 5
}
