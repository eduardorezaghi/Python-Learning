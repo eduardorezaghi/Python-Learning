{
 "cells": [
  {
   "cell_type": "markdown",
   "id": "e0d3e7e9",
   "metadata": {},
   "source": [
    "# Salário x Despesas: percentual (Udemy)"
   ]
  },
  {
   "cell_type": "code",
   "execution_count": 9,
   "id": "2021739a",
   "metadata": {},
   "outputs": [
    {
     "name": "stdout",
     "output_type": "stream",
     "text": [
      "71.18%\n"
     ]
    }
   ],
   "source": [
    "meu_salario = 3450.45\n",
    "minhas_despesas = 2456.2\n",
    "percentual_comprometimento = (2456.2/3450.45)\n",
    "print(f'{(percentual_comprometimento*100):3.2f}%')"
   ]
  },
  {
   "cell_type": "code",
   "execution_count": 1,
   "id": "72a244c4",
   "metadata": {},
   "outputs": [
    {
     "data": {
      "text/plain": [
       "'Python rules!'"
      ]
     },
     "execution_count": 1,
     "metadata": {},
     "output_type": "execute_result"
    }
   ],
   "source": [
    "'{} rules!'.format('Python')"
   ]
  },
  {
   "cell_type": "code",
   "execution_count": 5,
   "id": "9594dcb7",
   "metadata": {},
   "outputs": [],
   "source": [
    "lista = ['Apple','Banana','Orange',1,2,3,'漢']"
   ]
  },
  {
   "cell_type": "code",
   "execution_count": 6,
   "id": "45df7ff2",
   "metadata": {},
   "outputs": [
    {
     "data": {
      "text/plain": [
       "['Apple', 'Banana', 'Orange', 1, 2, 3, '']"
      ]
     },
     "execution_count": 6,
     "metadata": {},
     "output_type": "execute_result"
    }
   ],
   "source": [
    "lista"
   ]
  }
 ],
 "metadata": {
  "kernelspec": {
   "display_name": "Python 3",
   "language": "python",
   "name": "python3"
  },
  "language_info": {
   "codemirror_mode": {
    "name": "ipython",
    "version": 3
   },
   "file_extension": ".py",
   "mimetype": "text/x-python",
   "name": "python",
   "nbconvert_exporter": "python",
   "pygments_lexer": "ipython3",
   "version": "3.8.8"
  }
 },
 "nbformat": 4,
 "nbformat_minor": 5
}
