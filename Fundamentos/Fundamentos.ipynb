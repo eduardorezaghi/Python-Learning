{
 "cells": [
  {
   "cell_type": "markdown",
   "id": "8d79514c",
   "metadata": {},
   "source": [
    "# Primeiros Exemplos"
   ]
  },
  {
   "cell_type": "code",
   "execution_count": 20,
   "id": "33bcf66f",
   "metadata": {},
   "outputs": [
    {
     "name": "stdout",
     "output_type": "stream",
     "text": [
      "First steps\n"
     ]
    }
   ],
   "source": [
    "print('First steps')"
   ]
  },
  {
   "cell_type": "markdown",
   "id": "5b433d7d",
   "metadata": {},
   "source": [
    "# Tipos Básicos"
   ]
  },
  {
   "cell_type": "code",
   "execution_count": 4,
   "id": "7724adcc",
   "metadata": {},
   "outputs": [
    {
     "name": "stdout",
     "output_type": "stream",
     "text": [
      "True\n"
     ]
    }
   ],
   "source": [
    "print(True)"
   ]
  },
  {
   "cell_type": "code",
   "execution_count": 5,
   "id": "c9ae1082",
   "metadata": {},
   "outputs": [
    {
     "name": "stdout",
     "output_type": "stream",
     "text": [
      "2.2\n"
     ]
    }
   ],
   "source": [
    "float = 1.2\n",
    "integer = 1\n",
    "print(float + integer)"
   ]
  },
  {
   "cell_type": "code",
   "execution_count": 6,
   "id": "36a06bc4",
   "metadata": {},
   "outputs": [
    {
     "name": "stdout",
     "output_type": "stream",
     "text": [
      "String example with simple quotes\n"
     ]
    }
   ],
   "source": [
    "print('String example with simple quotes')"
   ]
  },
  {
   "cell_type": "code",
   "execution_count": 7,
   "id": "2a14dbb7",
   "metadata": {},
   "outputs": [
    {
     "name": "stdout",
     "output_type": "stream",
     "text": [
      "String example with double quotes\n"
     ]
    }
   ],
   "source": [
    "print(\"String example with double quotes\")"
   ]
  },
  {
   "cell_type": "code",
   "execution_count": 8,
   "id": "34c50777",
   "metadata": {},
   "outputs": [
    {
     "name": "stdout",
     "output_type": "stream",
     "text": [
      "[1, 2, 3, 4, 5]\n"
     ]
    }
   ],
   "source": [
    "print([1,2,3,4,5])"
   ]
  },
  {
   "cell_type": "code",
   "execution_count": 3,
   "id": "a41a7108",
   "metadata": {},
   "outputs": [
    {
     "name": "stdout",
     "output_type": "stream",
     "text": [
      "{'nome': 'pedro', 'idade': '22', 'escolaridade': 'ES'}\n"
     ]
    }
   ],
   "source": [
    "print({'nome':'pedro','idade':'22','escolaridade':'ES'})"
   ]
  },
  {
   "cell_type": "code",
   "execution_count": null,
   "id": "e34947d6",
   "metadata": {},
   "outputs": [],
   "source": []
  },
  {
   "cell_type": "markdown",
   "id": "416fd2bc",
   "metadata": {},
   "source": [
    "# Variáveis"
   ]
  },
  {
   "cell_type": "code",
   "execution_count": 7,
   "id": "85d304a7",
   "metadata": {},
   "outputs": [
    {
     "name": "stdout",
     "output_type": "stream",
     "text": [
      "10 1.2 I'm a wild string! None\n"
     ]
    }
   ],
   "source": [
    "a = 10\n",
    "b = 1.2\n",
    "c = \"I'm a wild string!\"\n",
    "d = None\n",
    "a = 'NOW IM A STRING'\n",
    "print(a,b,c,d)"
   ]
  },
  {
   "cell_type": "markdown",
   "id": "bde2086c",
   "metadata": {},
   "source": [
    "# Comentários"
   ]
  },
  {
   "cell_type": "code",
   "execution_count": 8,
   "id": "15c222d3",
   "metadata": {},
   "outputs": [
    {
     "data": {
      "text/plain": [
       "'\\nComentário usando aspas triplas.\\nÉ possível comentar em diversas linhas!\\nUhuuuuuuuuuuuuuuuuuuuuuuuuuuuuuuuuuuuul\\n'"
      ]
     },
     "execution_count": 8,
     "metadata": {},
     "output_type": "execute_result"
    }
   ],
   "source": [
    "#Comentário básico usando hashtag ou cerquilha\n",
    "\"\"\"\n",
    "Comentário usando aspas triplas.\n",
    "É possível comentar em diversas linhas!\n",
    "Uhuuuuuuuuuuuuuuuuuuuuuuuuuuuuuuuuuuuul\n",
    "\"\"\""
   ]
  },
  {
   "cell_type": "markdown",
   "id": "06967866",
   "metadata": {},
   "source": [
    "# Tipos de Variáveis\n",
    "* type() é uma função básica que indica o tipo das variáveis."
   ]
  },
  {
   "cell_type": "code",
   "execution_count": 12,
   "id": "6872d551",
   "metadata": {},
   "outputs": [
    {
     "name": "stdout",
     "output_type": "stream",
     "text": [
      "<class 'int'>\n",
      "<class 'float'>\n",
      "<class 'str'>\n"
     ]
    }
   ],
   "source": [
    "a = 10 \n",
    "b = 1.2\n",
    "c = \"Python\"\n",
    "print(type(a))\n",
    "print(type(b))\n",
    "print(type(c))"
   ]
  },
  {
   "cell_type": "markdown",
   "id": "a28c0215",
   "metadata": {},
   "source": [
    "# Strings\n",
    "* Strings são sequências de caracteres indexadas partindo de zero (0) até o tamanho da sequência menos um (len(_**str**_)-1)."
   ]
  },
  {
   "cell_type": "code",
   "execution_count": 19,
   "id": "30337f46",
   "metadata": {},
   "outputs": [
    {
     "name": "stdout",
     "output_type": "stream",
     "text": [
      "This is just a simple text., with 27characters.\n"
     ]
    }
   ],
   "source": [
    "string = \"This is just a simple text.\"\n",
    "size = len(string)\n",
    "print(string + \", with \" + str(size) +\"characters.\")"
   ]
  },
  {
   "cell_type": "code",
   "execution_count": 7,
   "id": "72f9abf0",
   "metadata": {},
   "outputs": [
    {
     "data": {
      "text/plain": [
       "'This is just a simple text'"
      ]
     },
     "execution_count": 7,
     "metadata": {},
     "output_type": "execute_result"
    }
   ],
   "source": [
    "'This is just a simple text'"
   ]
  },
  {
   "cell_type": "code",
   "execution_count": 8,
   "id": "cf91e28d",
   "metadata": {},
   "outputs": [
    {
     "data": {
      "text/plain": [
       "'This is just a simple text'"
      ]
     },
     "execution_count": 8,
     "metadata": {},
     "output_type": "execute_result"
    }
   ],
   "source": [
    "\"This is just a simple text\""
   ]
  },
  {
   "cell_type": "markdown",
   "id": "fac1cf52",
   "metadata": {},
   "source": [
    "# Fatiamento (_slicing_) de strings"
   ]
  },
  {
   "cell_type": "code",
   "execution_count": 11,
   "id": "a9236956",
   "metadata": {},
   "outputs": [
    {
     "data": {
      "text/plain": [
       "'eduardo'"
      ]
     },
     "execution_count": 11,
     "metadata": {},
     "output_type": "execute_result"
    }
   ],
   "source": [
    "minha_string = \"eduardo\"\n",
    "minha_string"
   ]
  },
  {
   "cell_type": "code",
   "execution_count": 30,
   "id": "a7d722fb",
   "metadata": {},
   "outputs": [
    {
     "data": {
      "text/plain": [
       "'o'"
      ]
     },
     "execution_count": 30,
     "metadata": {},
     "output_type": "execute_result"
    }
   ],
   "source": [
    "minha_string[-1]"
   ]
  },
  {
   "cell_type": "code",
   "execution_count": 14,
   "id": "01f0d14e",
   "metadata": {},
   "outputs": [],
   "source": [
    "minha_string = 'abcdefghijk'"
   ]
  },
  {
   "cell_type": "markdown",
   "id": "e4c7bb4f",
   "metadata": {},
   "source": [
    "### Intervalo\n",
    "* _string_[**start**:**end**:**step**]"
   ]
  },
  {
   "cell_type": "code",
   "execution_count": 15,
   "id": "c3f21a48",
   "metadata": {},
   "outputs": [
    {
     "data": {
      "text/plain": [
       "'cdefghijk'"
      ]
     },
     "execution_count": 15,
     "metadata": {},
     "output_type": "execute_result"
    }
   ],
   "source": [
    "minha_string[2:]"
   ]
  },
  {
   "cell_type": "code",
   "execution_count": 16,
   "id": "125468b9",
   "metadata": {},
   "outputs": [
    {
     "data": {
      "text/plain": [
       "'abc'"
      ]
     },
     "execution_count": 16,
     "metadata": {},
     "output_type": "execute_result"
    }
   ],
   "source": [
    "minha_string[:3]"
   ]
  },
  {
   "cell_type": "code",
   "execution_count": 17,
   "id": "c28cdfc5",
   "metadata": {},
   "outputs": [
    {
     "data": {
      "text/plain": [
       "'def'"
      ]
     },
     "execution_count": 17,
     "metadata": {},
     "output_type": "execute_result"
    }
   ],
   "source": [
    "minha_string[3:6]"
   ]
  },
  {
   "cell_type": "code",
   "execution_count": 18,
   "id": "1d44d21c",
   "metadata": {},
   "outputs": [
    {
     "data": {
      "text/plain": [
       "'ijk'"
      ]
     },
     "execution_count": 18,
     "metadata": {},
     "output_type": "execute_result"
    }
   ],
   "source": [
    "minha_string[8:11]"
   ]
  },
  {
   "cell_type": "code",
   "execution_count": 19,
   "id": "a2efa592",
   "metadata": {},
   "outputs": [
    {
     "data": {
      "text/plain": [
       "'abcdefghijk'"
      ]
     },
     "execution_count": 19,
     "metadata": {},
     "output_type": "execute_result"
    }
   ],
   "source": [
    "minha_string[::]"
   ]
  },
  {
   "cell_type": "code",
   "execution_count": 20,
   "id": "4edcad16",
   "metadata": {},
   "outputs": [
    {
     "data": {
      "text/plain": [
       "'adgj'"
      ]
     },
     "execution_count": 20,
     "metadata": {},
     "output_type": "execute_result"
    }
   ],
   "source": [
    "minha_string[::3]"
   ]
  },
  {
   "cell_type": "code",
   "execution_count": 21,
   "id": "322c08d9",
   "metadata": {},
   "outputs": [
    {
     "data": {
      "text/plain": [
       "'ceg'"
      ]
     },
     "execution_count": 21,
     "metadata": {},
     "output_type": "execute_result"
    }
   ],
   "source": [
    "minha_string[2:7:2]"
   ]
  },
  {
   "cell_type": "code",
   "execution_count": 22,
   "id": "5c305478",
   "metadata": {},
   "outputs": [
    {
     "data": {
      "text/plain": [
       "'kjihgfedcba'"
      ]
     },
     "execution_count": 22,
     "metadata": {},
     "output_type": "execute_result"
    }
   ],
   "source": [
    "minha_string[::-1]"
   ]
  },
  {
   "cell_type": "markdown",
   "id": "e0e816e9",
   "metadata": {},
   "source": [
    "# Imutabilidade de Strings"
   ]
  },
  {
   "cell_type": "code",
   "execution_count": 23,
   "id": "9d8e82fd",
   "metadata": {},
   "outputs": [],
   "source": [
    "name = \"Sam\""
   ]
  },
  {
   "cell_type": "code",
   "execution_count": 25,
   "id": "6c64a9ac",
   "metadata": {},
   "outputs": [],
   "source": [
    "last_letters = name[1:]"
   ]
  },
  {
   "cell_type": "code",
   "execution_count": 26,
   "id": "80ce97ed",
   "metadata": {},
   "outputs": [
    {
     "data": {
      "text/plain": [
       "'am'"
      ]
     },
     "execution_count": 26,
     "metadata": {},
     "output_type": "execute_result"
    }
   ],
   "source": [
    "last_letters"
   ]
  },
  {
   "cell_type": "code",
   "execution_count": 27,
   "id": "48dedbf9",
   "metadata": {},
   "outputs": [
    {
     "data": {
      "text/plain": [
       "'Pam'"
      ]
     },
     "execution_count": 27,
     "metadata": {},
     "output_type": "execute_result"
    }
   ],
   "source": [
    "'P' + last_letters"
   ]
  },
  {
   "cell_type": "code",
   "execution_count": 21,
   "id": "01b64cec",
   "metadata": {},
   "outputs": [],
   "source": [
    " x = 'Hello World'"
   ]
  },
  {
   "cell_type": "code",
   "execution_count": 22,
   "id": "e3724a80",
   "metadata": {},
   "outputs": [
    {
     "data": {
      "text/plain": [
       "'Hello World  it is beaultiful outside'"
      ]
     },
     "execution_count": 22,
     "metadata": {},
     "output_type": "execute_result"
    }
   ],
   "source": [
    "x + '  it is beaultiful outside'"
   ]
  },
  {
   "cell_type": "code",
   "execution_count": 24,
   "id": "e6c71fdb",
   "metadata": {},
   "outputs": [],
   "source": [
    "letter = 'z'"
   ]
  },
  {
   "cell_type": "code",
   "execution_count": null,
   "id": "0d3ce4ca",
   "metadata": {},
   "outputs": [],
   "source": [
    "letter * 10"
   ]
  },
  {
   "cell_type": "markdown",
   "id": "048636eb",
   "metadata": {},
   "source": [
    "# Formatando Strings"
   ]
  },
  {
   "cell_type": "markdown",
   "id": "b44868df",
   "metadata": {},
   "source": [
    "É possivel formatar uma string com o método **.format()** ou com **f-strings**:\n",
    "* 'String aqui {}  e também {}'.format(**'coisa1'**,**'coisa2'**)\n"
   ]
  },
  {
   "cell_type": "code",
   "execution_count": 6,
   "id": "eb3d2a70",
   "metadata": {},
   "outputs": [
    {
     "name": "stdout",
     "output_type": "stream",
     "text": [
      "Uma String INSERIDA\n"
     ]
    }
   ],
   "source": [
    "print('Uma String {}'.format('INSERIDA'))"
   ]
  },
  {
   "cell_type": "code",
   "execution_count": 8,
   "id": "93094ca6",
   "metadata": {},
   "outputs": [
    {
     "name": "stdout",
     "output_type": "stream",
     "text": [
      "The quick brown fox\n"
     ]
    }
   ],
   "source": [
    "print('The {2} {1} {0}'.format('fox','brown','quick'))"
   ]
  },
  {
   "cell_type": "code",
   "execution_count": 10,
   "id": "b98688bd",
   "metadata": {},
   "outputs": [
    {
     "name": "stdout",
     "output_type": "stream",
     "text": [
      "The quick brown fox\n"
     ]
    }
   ],
   "source": [
    "print('The {q} {b} {f}'.format(f='fox',b='brown',q='quick'))"
   ]
  },
  {
   "cell_type": "markdown",
   "id": "af41f2b0",
   "metadata": {},
   "source": [
    "### Formatando Floats\n",
    "Para formatar um número real (float), pode-se seguir:  \n",
    "* \"{   valor:tamanho(adc. espaços em branco).precisão _f_   }\""
   ]
  },
  {
   "cell_type": "code",
   "execution_count": 20,
   "id": "d256dfb5",
   "metadata": {},
   "outputs": [
    {
     "name": "stdout",
     "output_type": "stream",
     "text": [
      "0.1287001287001287\n",
      "Resultado arredondado = 0.12870\n"
     ]
    }
   ],
   "source": [
    "res = 100/777\n",
    "print(res)\n",
    "print('Resultado arredondado = {r:1.5f}'.format(r=res))"
   ]
  },
  {
   "cell_type": "code",
   "execution_count": null,
   "id": "8306b690",
   "metadata": {},
   "outputs": [],
   "source": []
  },
  {
   "cell_type": "code",
   "execution_count": null,
   "id": "c4d38be5",
   "metadata": {},
   "outputs": [],
   "source": []
  },
  {
   "cell_type": "code",
   "execution_count": null,
   "id": "13658436",
   "metadata": {},
   "outputs": [],
   "source": []
  },
  {
   "cell_type": "code",
   "execution_count": 26,
   "id": "075332f3",
   "metadata": {},
   "outputs": [
    {
     "name": "stdout",
     "output_type": "stream",
     "text": [
      "Hello, Edward!\n"
     ]
    }
   ],
   "source": [
    "name = \"Edward\"\n",
    "print(f\"Hello, {name}!\")"
   ]
  },
  {
   "cell_type": "code",
   "execution_count": 29,
   "id": "fc9cffa1",
   "metadata": {},
   "outputs": [
    {
     "name": "stdout",
     "output_type": "stream",
     "text": [
      "Sam is 3 years old and weights 9.563 kilograms.\n"
     ]
    }
   ],
   "source": [
    "name = \"Sam\"\n",
    "age = 3\n",
    "weight = 9.56346546\n",
    "print(f'{name} is {age} years old and weights {weight:1.3f} kilograms.')"
   ]
  },
  {
   "cell_type": "code",
   "execution_count": null,
   "id": "2a20dbe4",
   "metadata": {},
   "outputs": [],
   "source": []
  },
  {
   "cell_type": "markdown",
   "id": "28d6026c",
   "metadata": {},
   "source": [
    "# Listas"
   ]
  },
  {
   "cell_type": "markdown",
   "id": "e1f0e628",
   "metadata": {},
   "source": [
    "Listas são sequências ordenadas que armazenam objetos de tipos diversos.\n",
    "Sua notação é: []. Exemplo:\n",
    "   * [1,2,3,4,5]\n",
    "   \n",
    "Listas suportam indexação e fatiamento. Listas também podem ser aninhadas."
   ]
  },
  {
   "cell_type": "code",
   "execution_count": 2,
   "id": "af2dc41f",
   "metadata": {},
   "outputs": [
    {
     "name": "stdout",
     "output_type": "stream",
     "text": [
      "5\n",
      "3\n",
      "one\n",
      "['two', 'three']\n"
     ]
    }
   ],
   "source": [
    "my_list = [1,2,3,4,5]\n",
    "mixed_list = ['Edu',12.45,100]\n",
    "print(len(my_list))\n",
    "print(len(mixed_list))\n",
    "\n",
    "my_list = ['one','two','three']\n",
    "print(my_list[0])\n",
    "print(my_list[1:])"
   ]
  },
  {
   "cell_type": "code",
   "execution_count": 15,
   "id": "60e3d077",
   "metadata": {},
   "outputs": [],
   "source": [
    "another_list = ['four','five']\n",
    "new_list = my_list + another_list\n",
    "new_list[0] = 'ONE ALL CAPS'\n",
    "new_list.append('six')\n",
    "new_list.append('seven')\n",
    "new_list.pop()\n",
    "popped_item = new_list.pop()"
   ]
  },
  {
   "cell_type": "code",
   "execution_count": 16,
   "id": "ab2e521a",
   "metadata": {},
   "outputs": [
    {
     "data": {
      "text/plain": [
       "'six'"
      ]
     },
     "execution_count": 16,
     "metadata": {},
     "output_type": "execute_result"
    }
   ],
   "source": [
    "popped_item"
   ]
  },
  {
   "cell_type": "code",
   "execution_count": 17,
   "id": "22b7f4da",
   "metadata": {},
   "outputs": [
    {
     "data": {
      "text/plain": [
       "['ONE ALL CAPS', 'two', 'three', 'four', 'five']"
      ]
     },
     "execution_count": 17,
     "metadata": {},
     "output_type": "execute_result"
    }
   ],
   "source": [
    "new_list"
   ]
  },
  {
   "cell_type": "code",
   "execution_count": 18,
   "id": "6687f824",
   "metadata": {},
   "outputs": [
    {
     "data": {
      "text/plain": [
       "'ONE ALL CAPS'"
      ]
     },
     "execution_count": 18,
     "metadata": {},
     "output_type": "execute_result"
    }
   ],
   "source": [
    "new_list.pop(0)"
   ]
  },
  {
   "cell_type": "code",
   "execution_count": 19,
   "id": "9761d9d0",
   "metadata": {},
   "outputs": [
    {
     "data": {
      "text/plain": [
       "['two', 'three', 'four', 'five']"
      ]
     },
     "execution_count": 19,
     "metadata": {},
     "output_type": "execute_result"
    }
   ],
   "source": [
    "new_list"
   ]
  },
  {
   "cell_type": "code",
   "execution_count": 20,
   "id": "bc6a6a4f",
   "metadata": {},
   "outputs": [],
   "source": [
    "new_list = ['a','e','x','z','f']\n",
    "num_list = [3,4,34,21,423,43]"
   ]
  },
  {
   "cell_type": "code",
   "execution_count": 21,
   "id": "b2de4641",
   "metadata": {},
   "outputs": [],
   "source": [
    "new_list.sort()"
   ]
  },
  {
   "cell_type": "code",
   "execution_count": 22,
   "id": "9db4770d",
   "metadata": {},
   "outputs": [
    {
     "data": {
      "text/plain": [
       "['a', 'e', 'f', 'x', 'z']"
      ]
     },
     "execution_count": 22,
     "metadata": {},
     "output_type": "execute_result"
    }
   ],
   "source": [
    "new_list"
   ]
  },
  {
   "cell_type": "code",
   "execution_count": 24,
   "id": "fcd57040",
   "metadata": {},
   "outputs": [
    {
     "data": {
      "text/plain": [
       "NoneType"
      ]
     },
     "execution_count": 24,
     "metadata": {},
     "output_type": "execute_result"
    }
   ],
   "source": [
    "sorted_list = new_list.sort()\n",
    "type(sorted_list)"
   ]
  },
  {
   "cell_type": "code",
   "execution_count": 25,
   "id": "8258f86e",
   "metadata": {},
   "outputs": [
    {
     "name": "stdout",
     "output_type": "stream",
     "text": [
      "[3, 4, 21, 34, 43, 423]\n"
     ]
    }
   ],
   "source": [
    "num_list.sort()\n",
    "print(num_list)"
   ]
  },
  {
   "cell_type": "code",
   "execution_count": 27,
   "id": "34d4135e",
   "metadata": {},
   "outputs": [
    {
     "name": "stdout",
     "output_type": "stream",
     "text": [
      "[3, 4, 21, 34, 43, 423]\n"
     ]
    }
   ],
   "source": [
    "num_list.reverse()\n",
    "print(num_list)"
   ]
  },
  {
   "cell_type": "markdown",
   "id": "8e272000",
   "metadata": {},
   "source": [
    "# Tuplas\n",
    "* Tuplas são um conjunto de itens, de **forma parecida com uma lista**, mas imutáveis, significando que seus valores não podem ser alterados.\n",
    "* Tuplas possuem como notação *parênteses*: **()**\n",
    "* Ex: _(1,2,4,3,56,34.21,[1,2,3,4])_"
   ]
  },
  {
   "cell_type": "code",
   "execution_count": 1,
   "id": "906b5bb0",
   "metadata": {},
   "outputs": [
    {
     "name": "stdout",
     "output_type": "stream",
     "text": [
      "(1, 2, 4, 3, 56, 34.21, [1, 2, 3, 4], 'Tomorrow is a new day.')\n"
     ]
    }
   ],
   "source": [
    "my_tuple = (1,2,4,3,56,34.21,[1,2,3,4],'Tomorrow is a new day.')\n",
    "print(my_tuple)"
   ]
  },
  {
   "cell_type": "code",
   "execution_count": 2,
   "id": "b243a204",
   "metadata": {},
   "outputs": [
    {
     "data": {
      "text/plain": [
       "1"
      ]
     },
     "execution_count": 2,
     "metadata": {},
     "output_type": "execute_result"
    }
   ],
   "source": [
    "my_tuple[0]"
   ]
  },
  {
   "cell_type": "code",
   "execution_count": 4,
   "id": "7463b77b",
   "metadata": {},
   "outputs": [
    {
     "data": {
      "text/plain": [
       "8"
      ]
     },
     "execution_count": 4,
     "metadata": {},
     "output_type": "execute_result"
    }
   ],
   "source": [
    "len(my_tuple)"
   ]
  },
  {
   "cell_type": "markdown",
   "id": "123c4f68",
   "metadata": {},
   "source": [
    "## Métodos básicos"
   ]
  },
  {
   "cell_type": "code",
   "execution_count": 5,
   "id": "1deb7e8a",
   "metadata": {},
   "outputs": [
    {
     "data": {
      "text/plain": [
       "7"
      ]
     },
     "execution_count": 5,
     "metadata": {},
     "output_type": "execute_result"
    }
   ],
   "source": [
    "my_tuple.index('Tomorrow is a new day.')"
   ]
  },
  {
   "cell_type": "code",
   "execution_count": 6,
   "id": "32098bd5",
   "metadata": {},
   "outputs": [
    {
     "data": {
      "text/plain": [
       "1"
      ]
     },
     "execution_count": 6,
     "metadata": {},
     "output_type": "execute_result"
    }
   ],
   "source": [
    "my_tuple.count(56)"
   ]
  },
  {
   "cell_type": "code",
   "execution_count": 9,
   "id": "6fbbc5a9",
   "metadata": {},
   "outputs": [
    {
     "ename": "TypeError",
     "evalue": "'tuple' object does not support item assignment",
     "output_type": "error",
     "traceback": [
      "\u001b[1;31m---------------------------------------------------------------------------\u001b[0m",
      "\u001b[1;31mTypeError\u001b[0m                                 Traceback (most recent call last)",
      "\u001b[1;32m<ipython-input-9-aade08f5c63e>\u001b[0m in \u001b[0;36m<module>\u001b[1;34m\u001b[0m\n\u001b[1;32m----> 1\u001b[1;33m \u001b[0mmy_tuple\u001b[0m\u001b[1;33m[\u001b[0m\u001b[1;36m0\u001b[0m\u001b[1;33m]\u001b[0m \u001b[1;33m=\u001b[0m \u001b[1;34m'Matrix'\u001b[0m\u001b[1;33m\u001b[0m\u001b[1;33m\u001b[0m\u001b[0m\n\u001b[0m\u001b[0;32m      2\u001b[0m \u001b[0mmy_tuple\u001b[0m\u001b[1;33m.\u001b[0m\u001b[0mappend\u001b[0m\u001b[1;33m(\u001b[0m\u001b[1;34m'Matrix'\u001b[0m\u001b[1;33m)\u001b[0m\u001b[1;33m\u001b[0m\u001b[1;33m\u001b[0m\u001b[0m\n\u001b[0;32m      3\u001b[0m \u001b[1;31m# Como observação: TUPLAS NÃO PODEM SER MODIFICADAS! Por isso, não podem ter elementos alterados ou adicionados.\u001b[0m\u001b[1;33m\u001b[0m\u001b[1;33m\u001b[0m\u001b[1;33m\u001b[0m\u001b[0m\n",
      "\u001b[1;31mTypeError\u001b[0m: 'tuple' object does not support item assignment"
     ]
    }
   ],
   "source": [
    "my_tuple[0] = 'Matrix'\n",
    "my_tuple.append('Matrix')\n",
    "# Como observação: TUPLAS NÃO PODEM SER MODIFICADAS! Por isso, não podem ter elementos alterados ou adicionados."
   ]
  },
  {
   "cell_type": "code",
   "execution_count": null,
   "id": "6ccf4246",
   "metadata": {},
   "outputs": [],
   "source": []
  }
 ],
 "metadata": {
  "kernelspec": {
   "display_name": "Python 3",
   "language": "python",
   "name": "python3"
  },
  "language_info": {
   "codemirror_mode": {
    "name": "ipython",
    "version": 3
   },
   "file_extension": ".py",
   "mimetype": "text/x-python",
   "name": "python",
   "nbconvert_exporter": "python",
   "pygments_lexer": "ipython3",
   "version": "3.8.8"
  }
 },
 "nbformat": 4,
 "nbformat_minor": 5
}
