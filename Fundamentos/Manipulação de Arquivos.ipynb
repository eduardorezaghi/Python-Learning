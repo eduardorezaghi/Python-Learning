{
 "cells": [
  {
   "cell_type": "code",
   "execution_count": 7,
   "id": "1c894c89",
   "metadata": {},
   "outputs": [
    {
     "name": "stdout",
     "output_type": "stream",
     "text": [
      "Overwriting test_file.txt\n"
     ]
    }
   ],
   "source": [
    "%%writefile test_file.txt\n",
    "Ola. Esse eh um arquivo de texto.\n",
    "Segunda Linha!\n",
    "Terceira Linha!"
   ]
  },
  {
   "cell_type": "code",
   "execution_count": 9,
   "id": "70a6fe95",
   "metadata": {},
   "outputs": [],
   "source": [
    "test_file = open('test_file.txt')"
   ]
  },
  {
   "cell_type": "code",
   "execution_count": 4,
   "id": "1809e786",
   "metadata": {},
   "outputs": [
    {
     "data": {
      "text/plain": [
       "'H:\\\\Meu Drive\\\\Pessoal\\\\python-workspace\\\\Fundamentos'"
      ]
     },
     "execution_count": 4,
     "metadata": {},
     "output_type": "execute_result"
    }
   ],
   "source": [
    "pwd"
   ]
  },
  {
   "cell_type": "code",
   "execution_count": 10,
   "id": "9a41de11",
   "metadata": {},
   "outputs": [
    {
     "data": {
      "text/plain": [
       "'Ola. Esse eh um arquivo de texto.\\nSegunda Linha!\\nTerceira Linha!\\n'"
      ]
     },
     "execution_count": 10,
     "metadata": {},
     "output_type": "execute_result"
    }
   ],
   "source": [
    "test_file.read() # Atingiu EOF. Necessário 'resetar' para o 1º caractere."
   ]
  },
  {
   "cell_type": "code",
   "execution_count": 12,
   "id": "74fa94bc",
   "metadata": {},
   "outputs": [
    {
     "data": {
      "text/plain": [
       "0"
      ]
     },
     "execution_count": 12,
     "metadata": {},
     "output_type": "execute_result"
    }
   ],
   "source": [
    "test_file.seek(0) # Resetando para o 1º caractere na posição 0"
   ]
  },
  {
   "cell_type": "code",
   "execution_count": 13,
   "id": "bdd0233f",
   "metadata": {},
   "outputs": [],
   "source": [
    "contents = test_file.read()"
   ]
  },
  {
   "cell_type": "code",
   "execution_count": 14,
   "id": "024f5be4",
   "metadata": {},
   "outputs": [
    {
     "data": {
      "text/plain": [
       "'Ola. Esse eh um arquivo de texto.\\nSegunda Linha!\\nTerceira Linha!\\n'"
      ]
     },
     "execution_count": 14,
     "metadata": {},
     "output_type": "execute_result"
    }
   ],
   "source": [
    "contents"
   ]
  },
  {
   "cell_type": "code",
   "execution_count": 15,
   "id": "5343a554",
   "metadata": {},
   "outputs": [
    {
     "data": {
      "text/plain": [
       "0"
      ]
     },
     "execution_count": 15,
     "metadata": {},
     "output_type": "execute_result"
    }
   ],
   "source": [
    "test_file.seek(0)"
   ]
  },
  {
   "cell_type": "code",
   "execution_count": 16,
   "id": "e746f187",
   "metadata": {},
   "outputs": [
    {
     "data": {
      "text/plain": [
       "['Ola. Esse eh um arquivo de texto.\\n',\n",
       " 'Segunda Linha!\\n',\n",
       " 'Terceira Linha!\\n']"
      ]
     },
     "execution_count": 16,
     "metadata": {},
     "output_type": "execute_result"
    }
   ],
   "source": [
    "test_file.readlines() # Separa cada linha do arquivo de texto."
   ]
  },
  {
   "cell_type": "markdown",
   "id": "d2b83bc8",
   "metadata": {},
   "source": [
    "### Observação\n",
    "No caso de arquivos em Python, como na linguagem C, para representar a estrutura de diretórios de um sistema Windows, irá ser utilizada a notação de barra-invertida dupla (para não confundir com caractere de escape):  \n",
    "* _'H:\\\\Meu Drive\\\\Pessoal\\\\python-workspace\\\\Fundamentos'_ \n",
    "\n",
    "Notação em sistemas Unix (exemplo):  \n",
    "* _'/home/usuário/python-workspace/Fundamentos'_"
   ]
  },
  {
   "cell_type": "code",
   "execution_count": 17,
   "id": "b3d2b4b7",
   "metadata": {},
   "outputs": [],
   "source": [
    "test_file.close() # Sempre fechar o arquivo depois de usá-lo!"
   ]
  },
  {
   "cell_type": "code",
   "execution_count": 19,
   "id": "d705554c",
   "metadata": {},
   "outputs": [],
   "source": [
    "with open('test_file.txt') as my_new_file:\n",
    "    contents = my_new_file.read()"
   ]
  },
  {
   "cell_type": "code",
   "execution_count": 20,
   "id": "fc6eb910",
   "metadata": {},
   "outputs": [
    {
     "data": {
      "text/plain": [
       "'Ola. Esse eh um arquivo de texto.\\nSegunda Linha!\\nTerceira Linha!\\n'"
      ]
     },
     "execution_count": 20,
     "metadata": {},
     "output_type": "execute_result"
    }
   ],
   "source": [
    "contents"
   ]
  },
  {
   "cell_type": "code",
   "execution_count": 24,
   "id": "0887558e",
   "metadata": {},
   "outputs": [
    {
     "ename": "UnsupportedOperation",
     "evalue": "not readable",
     "output_type": "error",
     "traceback": [
      "\u001b[1;31m---------------------------------------------------------------------------\u001b[0m",
      "\u001b[1;31mUnsupportedOperation\u001b[0m                      Traceback (most recent call last)",
      "\u001b[1;32m<ipython-input-24-e4e2c2c1ef65>\u001b[0m in \u001b[0;36m<module>\u001b[1;34m\u001b[0m\n\u001b[0;32m      1\u001b[0m \u001b[1;32mwith\u001b[0m \u001b[0mopen\u001b[0m\u001b[1;33m(\u001b[0m\u001b[1;34m'test_file.txt'\u001b[0m\u001b[1;33m,\u001b[0m\u001b[0mmode\u001b[0m\u001b[1;33m=\u001b[0m\u001b[1;34m'w'\u001b[0m\u001b[1;33m)\u001b[0m \u001b[1;32mas\u001b[0m \u001b[0mtestfile\u001b[0m\u001b[1;33m:\u001b[0m\u001b[1;33m\u001b[0m\u001b[1;33m\u001b[0m\u001b[0m\n\u001b[1;32m----> 2\u001b[1;33m     \u001b[0mcontents\u001b[0m \u001b[1;33m=\u001b[0m \u001b[0mtestfile\u001b[0m\u001b[1;33m.\u001b[0m\u001b[0mread\u001b[0m\u001b[1;33m(\u001b[0m\u001b[1;33m)\u001b[0m\u001b[1;33m\u001b[0m\u001b[1;33m\u001b[0m\u001b[0m\n\u001b[0m",
      "\u001b[1;31mUnsupportedOperation\u001b[0m: not readable"
     ]
    }
   ],
   "source": [
    "with open('test_file.txt',mode='w') as testfile:\n",
    "    contents = testfile.read()"
   ]
  },
  {
   "cell_type": "code",
   "execution_count": 45,
   "id": "7ba12b54",
   "metadata": {},
   "outputs": [
    {
     "name": "stdout",
     "output_type": "stream",
     "text": [
      "Overwriting test_rw_ops.txt\n"
     ]
    }
   ],
   "source": [
    "%%writefile test_rw_ops.txt\n",
    "ONE ON FIRST\n",
    "TWO ON SECOND\n",
    "THREE ON THIRD"
   ]
  },
  {
   "cell_type": "code",
   "execution_count": 46,
   "id": "030cb1f4",
   "metadata": {},
   "outputs": [
    {
     "name": "stdout",
     "output_type": "stream",
     "text": [
      "ONE ON FIRST\n",
      "TWO ON SECOND\n",
      "THREE ON THIRD\n",
      "\n"
     ]
    }
   ],
   "source": [
    "with open('test_rw_ops.txt',mode='r') as f:\n",
    "    print(f.read())"
   ]
  },
  {
   "cell_type": "code",
   "execution_count": 47,
   "id": "d996f2fc",
   "metadata": {},
   "outputs": [],
   "source": [
    "with open('test_rw_ops.txt',mode='a') as f:\n",
    "    f.write('FOUR ON FOURTH')"
   ]
  },
  {
   "cell_type": "code",
   "execution_count": 48,
   "id": "5828a614",
   "metadata": {},
   "outputs": [
    {
     "name": "stdout",
     "output_type": "stream",
     "text": [
      "ONE ON FIRST\n",
      "TWO ON SECOND\n",
      "THREE ON THIRD\n",
      "FOUR ON FOURTH\n"
     ]
    }
   ],
   "source": [
    "with open('test_rw_ops.txt',mode='r') as f:\n",
    "    print(f.read())\n"
   ]
  },
  {
   "cell_type": "code",
   "execution_count": 49,
   "id": "1f69f3b2",
   "metadata": {},
   "outputs": [],
   "source": [
    "with open('asdjasdi.txt',mode='w') as file:\n",
    "    file.write('I CREATED THIS FILE!')"
   ]
  },
  {
   "cell_type": "code",
   "execution_count": 50,
   "id": "3fde1683",
   "metadata": {},
   "outputs": [
    {
     "name": "stdout",
     "output_type": "stream",
     "text": [
      "I CREATED THIS FILE!\n"
     ]
    }
   ],
   "source": [
    "with open ('asdjasdi.txt',mode='r') as file:\n",
    "    print(file.read())"
   ]
  },
  {
   "cell_type": "code",
   "execution_count": null,
   "id": "6ada7278",
   "metadata": {},
   "outputs": [],
   "source": []
  }
 ],
 "metadata": {
  "kernelspec": {
   "display_name": "Python 3",
   "language": "python",
   "name": "python3"
  },
  "language_info": {
   "codemirror_mode": {
    "name": "ipython",
    "version": 3
   },
   "file_extension": ".py",
   "mimetype": "text/x-python",
   "name": "python",
   "nbconvert_exporter": "python",
   "pygments_lexer": "ipython3",
   "version": "3.8.8"
  }
 },
 "nbformat": 4,
 "nbformat_minor": 5
}
