{
 "cells": [
  {
   "cell_type": "markdown",
   "id": "71a65130",
   "metadata": {},
   "source": [
    "# Loops: conceito geral\n",
    "Loops são utilizados para iterar (isto é, repetir) por uma sequência ou por uma parte específica do código.\n",
    "* Os loops disponíveis no Python são:\n",
    "  - `for`: itera por sequências (como listas, tuplas, dicionários, conjuntos)\n",
    "  - `while`: itera blocos de código (controlados por certas condições ou flags)"
   ]
  },
  {
   "cell_type": "markdown",
   "id": "bcc12f9e",
   "metadata": {},
   "source": [
    "## Loops `for`\n",
    "For é utilizado mais frequentemente para iterar por sequências (listas ou arrays, em outras linguagens). Aqui está um exemplo em Python:"
   ]
  },
  {
   "cell_type": "code",
   "execution_count": 1,
   "id": "5fe67c45",
   "metadata": {},
   "outputs": [
    {
     "name": "stdout",
     "output_type": "stream",
     "text": [
      "1\n",
      "2\n",
      "3\n"
     ]
    }
   ],
   "source": [
    "iterable = [1,2,3]\n",
    "for number in iterable:\n",
    "    print(number)"
   ]
  },
  {
   "cell_type": "code",
   "execution_count": 8,
   "id": "50453342",
   "metadata": {},
   "outputs": [
    {
     "name": "stdout",
     "output_type": "stream",
     "text": [
      "Numero ímpar: 1\n",
      "2\n",
      "Numero ímpar: 3\n",
      "4\n",
      "Numero ímpar: 5\n",
      "6\n",
      "Numero ímpar: 7\n",
      "8\n",
      "Numero ímpar: 9\n",
      "10\n"
     ]
    }
   ],
   "source": [
    "mylist = [1,2,3,4,5,6,7,8,9,10] # Lista de iteráveis\n",
    "\n",
    "for num in mylist:\n",
    "    # Teste de paridade: se num mód. 2 for igual a zero, o número é par.\n",
    "    if num % 2 == 0: \n",
    "        print(num)\n",
    "    # Se não, é ímpar.\n",
    "    else:            \n",
    "        print(f'Numero ímpar: {num}')"
   ]
  },
  {
   "cell_type": "code",
   "execution_count": 12,
   "id": "58f0e95b",
   "metadata": {},
   "outputs": [
    {
     "name": "stdout",
     "output_type": "stream",
     "text": [
      "55\n"
     ]
    }
   ],
   "source": [
    "list_sum = 0\n",
    "\n",
    "for num in mylist:\n",
    "    list_sum += num;\n",
    "print(list_sum)"
   ]
  },
  {
   "cell_type": "code",
   "execution_count": 16,
   "id": "6bae2f94",
   "metadata": {},
   "outputs": [
    {
     "name": "stdout",
     "output_type": "stream",
     "text": [
      "H\n",
      "e\n",
      "l\n",
      "l\n",
      "o\n",
      " \n",
      "W\n",
      "o\n",
      "r\n",
      "l\n",
      "d\n",
      "!\n"
     ]
    }
   ],
   "source": [
    "for letter in \"Hello World!\":\n",
    "    print(letter)"
   ]
  },
  {
   "cell_type": "code",
   "execution_count": 17,
   "id": "3a3ef0f1",
   "metadata": {},
   "outputs": [
    {
     "name": "stdout",
     "output_type": "stream",
     "text": [
      "1\n",
      "2\n",
      "3\n"
     ]
    }
   ],
   "source": [
    "tup = (1,2,3)\n",
    "for item in tup:\n",
    "    print(item)"
   ]
  },
  {
   "cell_type": "code",
   "execution_count": 27,
   "id": "811707cf",
   "metadata": {},
   "outputs": [
    {
     "name": "stdout",
     "output_type": "stream",
     "text": [
      "(1, 2)\n",
      "(3, 4)\n",
      "(5, 6)\n",
      "(7, 8)\n",
      "\n",
      "\n",
      "1\n",
      "2\n",
      "3\n",
      "4\n",
      "5\n",
      "6\n",
      "7\n",
      "8\n",
      "\n",
      "\n",
      "2\n",
      "5\n",
      "8\n"
     ]
    }
   ],
   "source": [
    "tup_list = [(1,2),(3,4),(5,6),(7,8)]\n",
    "len(tup_list)\n",
    "\n",
    "# Printa os pares ordenados (tuplas) dentro da lista:\n",
    "for item in tup_list:\n",
    "    print(item)\n",
    "    \n",
    "print('\\n')\n",
    "\n",
    "# Printa os itens individuais das tuplas (tuple unpacking):\n",
    "for a,b in tup_list:\n",
    "    \n",
    "    print(a)\n",
    "    print(b)\n",
    "    \n",
    "print('\\n')\n",
    "\n",
    "# Outras variações de tuple unpacking:\n",
    "listing = [(1,2,3),(4,5,6),(7,8,9)]\n",
    "for a,b,c in listing:\n",
    "    # Termo do meio\n",
    "    print(b)"
   ]
  },
  {
   "cell_type": "markdown",
   "id": "7f4ee0a5",
   "metadata": {},
   "source": [
    "## Loops `while`\n",
    "While é utilizado mais frequentemente para iterar por blocos de código até que uma condição seja satisfeita. Exemplo:\n",
    "    "
   ]
  },
  {
   "cell_type": "code",
   "execution_count": 7,
   "id": "8e1fd419",
   "metadata": {},
   "outputs": [
    {
     "name": "stdout",
     "output_type": "stream",
     "text": [
      "0\n",
      "1\n",
      "2\n",
      "3\n",
      "4\n",
      "5\n",
      "6\n",
      "7\n",
      "8\n",
      "9\n",
      "Variable \"x\" is not less than 10. It is exactly equal to 10.\n"
     ]
    }
   ],
   "source": [
    "x = 0\n",
    "while x < 10:\n",
    "    print(x)\n",
    "    x += 1;\n",
    "else:\n",
    "    print(f'Variable \"x\" is not less than 10. It is exactly equal to {x}.')"
   ]
  },
  {
   "cell_type": "markdown",
   "id": "138cdae8",
   "metadata": {},
   "source": [
    "# Palavras-chave especiais para loops\n",
    "* No Python, existem algumas palavras chave especiais para a manipulação de como os loops funcionam. Basicamente, são:\n",
    "  - `continue`: volta ao início do loop mais próximo (nearest enclosing loop)\n",
    "  - `break`: sai do loop mais próximo (nearest enclosing loop)\n",
    "  - `pass`: não faz nada\n",
    "* Essas palavras-chave **geralmente** são utilizadas em condições if-else. Exemplos:"
   ]
  },
  {
   "cell_type": "code",
   "execution_count": 4,
   "id": "646a63ea",
   "metadata": {},
   "outputs": [
    {
     "name": "stdout",
     "output_type": "stream",
     "text": [
      "E\n",
      "d\n",
      "a\n",
      "r\n",
      "d\n"
     ]
    }
   ],
   "source": [
    "string = \"Edward\"\n",
    "for letter in string:\n",
    "    # Se a letra for 'w', volte do início (w não será mostrada).\n",
    "    if letter == 'w':\n",
    "        continue \n",
    "    print(letter)"
   ]
  },
  {
   "cell_type": "code",
   "execution_count": 3,
   "id": "c8157880",
   "metadata": {},
   "outputs": [
    {
     "name": "stdout",
     "output_type": "stream",
     "text": [
      "banana\n",
      "melon\n"
     ]
    }
   ],
   "source": [
    "fruits = ['banana','melon','iPhone','Galaxy']\n",
    "\n",
    "for fruit in fruits:\n",
    "    if fruit == 'iPhone':\n",
    "        break\n",
    "    else:\n",
    "        print(fruit)"
   ]
  },
  {
   "cell_type": "code",
   "execution_count": 6,
   "id": "aeb367fb",
   "metadata": {},
   "outputs": [
    {
     "name": "stdout",
     "output_type": "stream",
     "text": [
      "0\n",
      "1\n"
     ]
    }
   ],
   "source": [
    "x = 0\n",
    "while x < 5:\n",
    "    if x == 2:\n",
    "        break;\n",
    "    print(x)\n",
    "    x += 1"
   ]
  },
  {
   "cell_type": "code",
   "execution_count": null,
   "id": "e829cf19",
   "metadata": {},
   "outputs": [],
   "source": []
  }
 ],
 "metadata": {
  "kernelspec": {
   "display_name": "Python 3",
   "language": "python",
   "name": "python3"
  },
  "language_info": {
   "codemirror_mode": {
    "name": "ipython",
    "version": 3
   },
   "file_extension": ".py",
   "mimetype": "text/x-python",
   "name": "python",
   "nbconvert_exporter": "python",
   "pygments_lexer": "ipython3",
   "version": "3.8.8"
  }
 },
 "nbformat": 4,
 "nbformat_minor": 5
}
