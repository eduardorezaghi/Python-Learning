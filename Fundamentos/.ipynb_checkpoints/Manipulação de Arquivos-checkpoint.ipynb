{
 "cells": [
  {
   "cell_type": "code",
   "execution_count": 7,
   "id": "1808ac6f",
   "metadata": {},
   "outputs": [
    {
     "name": "stdout",
     "output_type": "stream",
     "text": [
      "Overwriting test_file.txt\n"
     ]
    }
   ],
   "source": [
    "%%writefile test_file.txt\n",
    "Ola. Esse eh um arquivo de texto.\n",
    "Segunda Linha!\n",
    "Terceira Linha!"
   ]
  },
  {
   "cell_type": "code",
   "execution_count": 9,
   "id": "83e0c136",
   "metadata": {},
   "outputs": [],
   "source": [
    "test_file = open('test_file.txt')"
   ]
  },
  {
   "cell_type": "code",
   "execution_count": 4,
   "id": "49953485",
   "metadata": {},
   "outputs": [
    {
     "data": {
      "text/plain": [
       "'H:\\\\Meu Drive\\\\Pessoal\\\\python-workspace\\\\Fundamentos'"
      ]
     },
     "execution_count": 4,
     "metadata": {},
     "output_type": "execute_result"
    }
   ],
   "source": [
    "pwd"
   ]
  },
  {
   "cell_type": "code",
   "execution_count": 10,
   "id": "c9ad32de",
   "metadata": {},
   "outputs": [
    {
     "data": {
      "text/plain": [
       "'Ola. Esse eh um arquivo de texto.\\nSegunda Linha!\\nTerceira Linha!\\n'"
      ]
     },
     "execution_count": 10,
     "metadata": {},
     "output_type": "execute_result"
    }
   ],
   "source": [
    "test_file.read() # Atingiu EOF. Necessário 'resetar' para o 1º caractere."
   ]
  },
  {
   "cell_type": "code",
   "execution_count": 12,
   "id": "155ad169",
   "metadata": {},
   "outputs": [
    {
     "data": {
      "text/plain": [
       "0"
      ]
     },
     "execution_count": 12,
     "metadata": {},
     "output_type": "execute_result"
    }
   ],
   "source": [
    "test_file.seek(0) # Resetando para o 1º caractere na posição 0"
   ]
  },
  {
   "cell_type": "code",
   "execution_count": 13,
   "id": "2c2a33ab",
   "metadata": {},
   "outputs": [],
   "source": [
    "contents = test_file.read()"
   ]
  },
  {
   "cell_type": "code",
   "execution_count": 14,
   "id": "de548d07",
   "metadata": {},
   "outputs": [
    {
     "data": {
      "text/plain": [
       "'Ola. Esse eh um arquivo de texto.\\nSegunda Linha!\\nTerceira Linha!\\n'"
      ]
     },
     "execution_count": 14,
     "metadata": {},
     "output_type": "execute_result"
    }
   ],
   "source": [
    "contents"
   ]
  },
  {
   "cell_type": "code",
   "execution_count": 15,
   "id": "8125a0f6",
   "metadata": {},
   "outputs": [
    {
     "data": {
      "text/plain": [
       "0"
      ]
     },
     "execution_count": 15,
     "metadata": {},
     "output_type": "execute_result"
    }
   ],
   "source": [
    "test_file.seek(0)"
   ]
  },
  {
   "cell_type": "code",
   "execution_count": 16,
   "id": "eb08efd0",
   "metadata": {},
   "outputs": [
    {
     "data": {
      "text/plain": [
       "['Ola. Esse eh um arquivo de texto.\\n',\n",
       " 'Segunda Linha!\\n',\n",
       " 'Terceira Linha!\\n']"
      ]
     },
     "execution_count": 16,
     "metadata": {},
     "output_type": "execute_result"
    }
   ],
   "source": [
    "test_file.readlines() # Separa cada linha do arquivo de texto."
   ]
  },
  {
   "cell_type": "markdown",
   "id": "f5d7a1eb",
   "metadata": {},
   "source": [
    "### Observação\n",
    "No caso de arquivos em Python, como na linguagem C, para representar a estrutura de diretórios de um sistema Windows, irá ser utilizada a notação de barra-invertida dupla (para não confundir com caractere de escape):  \n",
    "* _'H:\\\\Meu Drive\\\\Pessoal\\\\python-workspace\\\\Fundamentos'_ \n",
    "\n",
    "Notação em sistemas Unix (exemplo):  \n",
    "* _'/home/usuário/python-workspace/Fundamentos'_"
   ]
  },
  {
   "cell_type": "code",
   "execution_count": 17,
   "id": "d4af82b9",
   "metadata": {},
   "outputs": [],
   "source": [
    "test_file.close() # Sempre fechar o arquivo depois de usá-lo!"
   ]
  },
  {
   "cell_type": "code",
   "execution_count": 19,
   "id": "488ca05f",
   "metadata": {},
   "outputs": [],
   "source": [
    "with open('test_file.txt') as my_new_file:\n",
    "    contents = my_new_file.read()"
   ]
  },
  {
   "cell_type": "code",
   "execution_count": 20,
   "id": "67b0c399",
   "metadata": {},
   "outputs": [
    {
     "data": {
      "text/plain": [
       "'Ola. Esse eh um arquivo de texto.\\nSegunda Linha!\\nTerceira Linha!\\n'"
      ]
     },
     "execution_count": 20,
     "metadata": {},
     "output_type": "execute_result"
    }
   ],
   "source": [
    "contents"
   ]
  },
  {
   "cell_type": "code",
   "execution_count": null,
   "id": "2ef0fe59",
   "metadata": {},
   "outputs": [],
   "source": []
  }
 ],
 "metadata": {
  "kernelspec": {
   "display_name": "Python 3",
   "language": "python",
   "name": "python3"
  },
  "language_info": {
   "codemirror_mode": {
    "name": "ipython",
    "version": 3
   },
   "file_extension": ".py",
   "mimetype": "text/x-python",
   "name": "python",
   "nbconvert_exporter": "python",
   "pygments_lexer": "ipython3",
   "version": "3.8.8"
  }
 },
 "nbformat": 4,
 "nbformat_minor": 5
}
