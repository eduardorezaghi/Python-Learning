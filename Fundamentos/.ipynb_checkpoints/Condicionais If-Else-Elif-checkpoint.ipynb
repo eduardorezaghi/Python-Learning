{
 "cells": [
  {
   "cell_type": "markdown",
   "id": "d4c54d70",
   "metadata": {},
   "source": [
    "# Condicionais\n",
    "* Condicionais `if`, `else` e `elif` da linguagem Python representam fluxos de controle (control-flows), que são parte dos programas que possuem algum tipo de avaliação para realizar algoritmos A ou B dentro do código.\n",
    "\n",
    "* Se (`if`):  \n",
    "```python\n",
    "if some_condition:  \n",
    "    do_something\n",
    "```\n",
    "\n",
    "\n",
    "* Se não (`else`):  \n",
    "```python\n",
    "if some_condition:\n",
    "    do_something\n",
    "else:\n",
    "    do_something_else\n",
    "```\n",
    "\n",
    "\n",
    "* Se não, se (`elif`):\n",
    "```python\n",
    "if some_condition:\n",
    "    do_something\n",
    "elif another_condition:\n",
    "    do_something_alternate\n",
    "else:\n",
    "    do_something_else\n",
    "```"
   ]
  },
  {
   "cell_type": "code",
   "execution_count": 4,
   "id": "8cd0ab4e",
   "metadata": {},
   "outputs": [
    {
     "name": "stdout",
     "output_type": "stream",
     "text": [
      "I'm not hungry.\n"
     ]
    }
   ],
   "source": [
    "hungry = False\n",
    "if hungry:\n",
    "    print('FEED ME!')\n",
    "else:\n",
    "    print(\"I'm not hungry.\")"
   ]
  },
  {
   "cell_type": "code",
   "execution_count": 8,
   "id": "32a2546d",
   "metadata": {},
   "outputs": [
    {
     "name": "stdout",
     "output_type": "stream",
     "text": [
      "English name!?\n"
     ]
    }
   ],
   "source": [
    "name = 'Edward'\n",
    "\n",
    "if name == 'Edu': # Comparação binária\n",
    "    print('Olá, Eduardo!')\n",
    "elif name == 'Dudu':\n",
    "    print('Apelido legal!')\n",
    "elif name == 'Du':\n",
    "    print('Curto demais, hein?')\n",
    "elif name == 'Edward':\n",
    "    print('English name!?')\n",
    "else:\n",
    "    print('Tem apelido não?')"
   ]
  },
  {
   "cell_type": "code",
   "execution_count": null,
   "id": "096e2237",
   "metadata": {},
   "outputs": [],
   "source": []
  }
 ],
 "metadata": {
  "kernelspec": {
   "display_name": "Python 3",
   "language": "python",
   "name": "python3"
  },
  "language_info": {
   "codemirror_mode": {
    "name": "ipython",
    "version": 3
   },
   "file_extension": ".py",
   "mimetype": "text/x-python",
   "name": "python",
   "nbconvert_exporter": "python",
   "pygments_lexer": "ipython3",
   "version": "3.8.8"
  }
 },
 "nbformat": 4,
 "nbformat_minor": 5
}
