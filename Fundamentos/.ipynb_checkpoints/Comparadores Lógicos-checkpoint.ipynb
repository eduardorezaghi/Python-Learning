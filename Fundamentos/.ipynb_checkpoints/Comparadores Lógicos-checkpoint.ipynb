{
 "cells": [
  {
   "cell_type": "markdown",
   "id": "cf9b2464",
   "metadata": {},
   "source": [
    "# Comparadores lógicos"
   ]
  },
  {
   "cell_type": "code",
   "execution_count": 9,
   "id": "0d8029fc",
   "metadata": {},
   "outputs": [
    {
     "data": {
      "text/plain": [
       "True"
      ]
     },
     "execution_count": 9,
     "metadata": {},
     "output_type": "execute_result"
    }
   ],
   "source": [
    "3 == 3 # Igualdade"
   ]
  },
  {
   "cell_type": "code",
   "execution_count": 10,
   "id": "fb1eca14",
   "metadata": {},
   "outputs": [
    {
     "data": {
      "text/plain": [
       "True"
      ]
     },
     "execution_count": 10,
     "metadata": {},
     "output_type": "execute_result"
    }
   ],
   "source": [
    "3 > 2 # Maior"
   ]
  },
  {
   "cell_type": "code",
   "execution_count": null,
   "id": "c095f13a",
   "metadata": {},
   "outputs": [],
   "source": [
    "3 < 2 # Menor"
   ]
  },
  {
   "cell_type": "code",
   "execution_count": 11,
   "id": "9038d6b8",
   "metadata": {},
   "outputs": [
    {
     "data": {
      "text/plain": [
       "True"
      ]
     },
     "execution_count": 11,
     "metadata": {},
     "output_type": "execute_result"
    }
   ],
   "source": [
    "83 != 21"
   ]
  },
  {
   "cell_type": "code",
   "execution_count": 12,
   "id": "d253826b",
   "metadata": {},
   "outputs": [
    {
     "data": {
      "text/plain": [
       "True"
      ]
     },
     "execution_count": 12,
     "metadata": {},
     "output_type": "execute_result"
    }
   ],
   "source": [
    "2 <= 4"
   ]
  },
  {
   "cell_type": "code",
   "execution_count": 13,
   "id": "d2807fac",
   "metadata": {},
   "outputs": [
    {
     "data": {
      "text/plain": [
       "True"
      ]
     },
     "execution_count": 13,
     "metadata": {},
     "output_type": "execute_result"
    }
   ],
   "source": [
    "3 >= 3"
   ]
  },
  {
   "cell_type": "code",
   "execution_count": 3,
   "id": "3b279abd",
   "metadata": {},
   "outputs": [
    {
     "data": {
      "text/plain": [
       "True"
      ]
     },
     "execution_count": 3,
     "metadata": {},
     "output_type": "execute_result"
    }
   ],
   "source": [
    "'Lovely sunday' == 'Lovely sunday'"
   ]
  },
  {
   "cell_type": "code",
   "execution_count": 4,
   "id": "fb83cd11",
   "metadata": {},
   "outputs": [
    {
     "data": {
      "text/plain": [
       "False"
      ]
     },
     "execution_count": 4,
     "metadata": {},
     "output_type": "execute_result"
    }
   ],
   "source": [
    "'Lovely sunday' == 'Pizza'"
   ]
  },
  {
   "cell_type": "markdown",
   "id": "aae6c35f",
   "metadata": {},
   "source": [
    "## Comparadores lógicos compostos (expressões lógicas)"
   ]
  },
  {
   "cell_type": "code",
   "execution_count": 5,
   "id": "6675e99f",
   "metadata": {},
   "outputs": [
    {
     "data": {
      "text/plain": [
       "False"
      ]
     },
     "execution_count": 5,
     "metadata": {},
     "output_type": "execute_result"
    }
   ],
   "source": [
    "(1 > 2) and (3 < 1) # Avaliação curto-circuito"
   ]
  },
  {
   "cell_type": "code",
   "execution_count": 6,
   "id": "90619e38",
   "metadata": {},
   "outputs": [
    {
     "data": {
      "text/plain": [
       "True"
      ]
     },
     "execution_count": 6,
     "metadata": {},
     "output_type": "execute_result"
    }
   ],
   "source": [
    "(3 > 2) and (1 != 3)"
   ]
  },
  {
   "cell_type": "code",
   "execution_count": null,
   "id": "a7b18953",
   "metadata": {},
   "outputs": [],
   "source": []
  }
 ],
 "metadata": {
  "kernelspec": {
   "display_name": "Python 3",
   "language": "python",
   "name": "python3"
  },
  "language_info": {
   "codemirror_mode": {
    "name": "ipython",
    "version": 3
   },
   "file_extension": ".py",
   "mimetype": "text/x-python",
   "name": "python",
   "nbconvert_exporter": "python",
   "pygments_lexer": "ipython3",
   "version": "3.8.8"
  }
 },
 "nbformat": 4,
 "nbformat_minor": 5
}
